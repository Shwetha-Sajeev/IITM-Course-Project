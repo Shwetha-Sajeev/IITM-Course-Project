{
 "cells": [
  {
   "cell_type": "markdown",
   "id": "7daaebba",
   "metadata": {
    "papermill": {
     "duration": 0.015847,
     "end_time": "2023-04-03T16:58:50.410572",
     "exception": false,
     "start_time": "2023-04-03T16:58:50.394725",
     "status": "completed"
    },
    "tags": []
   },
   "source": [
    "# **E-Commerce Shopper's Behaviour Understanding**"
   ]
  },
  {
   "cell_type": "markdown",
   "id": "5c65a98d",
   "metadata": {
    "papermill": {
     "duration": 0.015718,
     "end_time": "2023-04-03T16:58:50.440162",
     "exception": false,
     "start_time": "2023-04-03T16:58:50.424444",
     "status": "completed"
    },
    "tags": []
   },
   "source": [
    "**Objective:**  Design a machine learning classification system to understand customer's shopping behaviours and predict shopper's intention (Purchase or not) based on the given features."
   ]
  },
  {
   "cell_type": "markdown",
   "id": "9d4b02af",
   "metadata": {
    "papermill": {
     "duration": 0.013704,
     "end_time": "2023-04-03T16:58:50.467733",
     "exception": false,
     "start_time": "2023-04-03T16:58:50.454029",
     "status": "completed"
    },
    "tags": []
   },
   "source": [
    "**Import Library**"
   ]
  },
  {
   "cell_type": "code",
   "execution_count": 1,
   "id": "f006c7fd",
   "metadata": {
    "execution": {
     "iopub.execute_input": "2023-04-03T16:58:50.499857Z",
     "iopub.status.busy": "2023-04-03T16:58:50.497881Z",
     "iopub.status.idle": "2023-04-03T16:58:52.015245Z",
     "shell.execute_reply": "2023-04-03T16:58:52.014066Z"
    },
    "papermill": {
     "duration": 1.536822,
     "end_time": "2023-04-03T16:58:52.018545",
     "exception": false,
     "start_time": "2023-04-03T16:58:50.481723",
     "status": "completed"
    },
    "tags": []
   },
   "outputs": [],
   "source": [
    "# linear algebra\n",
    "import numpy as np \n",
    "\n",
    "# data processing\n",
    "import pandas as pd \n",
    "\n",
    "# visualization\n",
    "import matplotlib.pyplot as plt \n",
    "import seaborn as sns\n",
    "\n",
    "# interact with the underlying operating system.\n",
    "import os\n",
    "\n",
    "# Replace missing values\n",
    "from sklearn.impute import SimpleImputer \n",
    "# Transform features by scaling\n",
    "from sklearn.preprocessing import MinMaxScaler\n",
    "\n",
    "# Model Building\n",
    "from sklearn.ensemble import ExtraTreesClassifier\n",
    "from sklearn.ensemble import AdaBoostClassifier\n",
    "\n",
    "# Cross Validation\n",
    "from sklearn.model_selection import cross_val_score\n",
    "\n",
    "# Hyper Parameter Tuning\n",
    "from sklearn.model_selection import RandomizedSearchCV\n"
   ]
  },
  {
   "cell_type": "markdown",
   "id": "7e81d68c",
   "metadata": {
    "papermill": {
     "duration": 0.013069,
     "end_time": "2023-04-03T16:58:52.045552",
     "exception": false,
     "start_time": "2023-04-03T16:58:52.032483",
     "status": "completed"
    },
    "tags": []
   },
   "source": [
    "**Import Data**"
   ]
  },
  {
   "cell_type": "code",
   "execution_count": 2,
   "id": "4126c87d",
   "metadata": {
    "execution": {
     "iopub.execute_input": "2023-04-03T16:58:52.074373Z",
     "iopub.status.busy": "2023-04-03T16:58:52.073947Z",
     "iopub.status.idle": "2023-04-03T16:58:52.085207Z",
     "shell.execute_reply": "2023-04-03T16:58:52.083800Z"
    },
    "papermill": {
     "duration": 0.029506,
     "end_time": "2023-04-03T16:58:52.088489",
     "exception": false,
     "start_time": "2023-04-03T16:58:52.058983",
     "status": "completed"
    },
    "tags": []
   },
   "outputs": [
    {
     "name": "stdout",
     "output_type": "stream",
     "text": [
      "/kaggle/input/ecommerceshoppersbehaviourunderstanding/test_data_v2.csv\n",
      "/kaggle/input/ecommerceshoppersbehaviourunderstanding/train_data_v2.csv\n",
      "/kaggle/input/ecommerceshoppersbehaviourunderstanding/sample.csv\n"
     ]
    }
   ],
   "source": [
    "# defining file paths\n",
    "for dirname, _, filenames in os.walk('/kaggle/input'):\n",
    "    for filename in filenames:\n",
    "        print(os.path.join(dirname, filename))\n",
    "        \n",
    "        "
   ]
  },
  {
   "cell_type": "code",
   "execution_count": 3,
   "id": "da4ac64b",
   "metadata": {
    "execution": {
     "iopub.execute_input": "2023-04-03T16:58:52.117290Z",
     "iopub.status.busy": "2023-04-03T16:58:52.116893Z",
     "iopub.status.idle": "2023-04-03T16:58:52.271364Z",
     "shell.execute_reply": "2023-04-03T16:58:52.269958Z"
    },
    "papermill": {
     "duration": 0.172878,
     "end_time": "2023-04-03T16:58:52.274779",
     "exception": false,
     "start_time": "2023-04-03T16:58:52.101901",
     "status": "completed"
    },
    "tags": []
   },
   "outputs": [],
   "source": [
    "# loading data\n",
    "train_data = pd.read_csv('/kaggle/input/ecommerceshoppersbehaviourunderstanding/train_data_v2.csv')\n",
    "test_data = pd.read_csv('/kaggle/input/ecommerceshoppersbehaviourunderstanding/test_data_v2.csv')"
   ]
  },
  {
   "cell_type": "markdown",
   "id": "4a76ba2b",
   "metadata": {
    "papermill": {
     "duration": 0.014132,
     "end_time": "2023-04-03T16:58:52.303725",
     "exception": false,
     "start_time": "2023-04-03T16:58:52.289593",
     "status": "completed"
    },
    "tags": []
   },
   "source": [
    "# **Exploratory Data Analysis**"
   ]
  },
  {
   "cell_type": "markdown",
   "id": "4450c04d",
   "metadata": {
    "papermill": {
     "duration": 0.014161,
     "end_time": "2023-04-03T16:58:52.332688",
     "exception": false,
     "start_time": "2023-04-03T16:58:52.318527",
     "status": "completed"
    },
    "tags": []
   },
   "source": [
    "**View Data**"
   ]
  },
  {
   "cell_type": "code",
   "execution_count": 4,
   "id": "18979c3d",
   "metadata": {
    "execution": {
     "iopub.execute_input": "2023-04-03T16:58:52.363534Z",
     "iopub.status.busy": "2023-04-03T16:58:52.362626Z",
     "iopub.status.idle": "2023-04-03T16:58:52.417064Z",
     "shell.execute_reply": "2023-04-03T16:58:52.415511Z"
    },
    "papermill": {
     "duration": 0.073388,
     "end_time": "2023-04-03T16:58:52.419842",
     "exception": false,
     "start_time": "2023-04-03T16:58:52.346454",
     "status": "completed"
    },
    "tags": []
   },
   "outputs": [
    {
     "data": {
      "text/html": [
       "<div>\n",
       "<style scoped>\n",
       "    .dataframe tbody tr th:only-of-type {\n",
       "        vertical-align: middle;\n",
       "    }\n",
       "\n",
       "    .dataframe tbody tr th {\n",
       "        vertical-align: top;\n",
       "    }\n",
       "\n",
       "    .dataframe thead th {\n",
       "        text-align: right;\n",
       "    }\n",
       "</style>\n",
       "<table border=\"1\" class=\"dataframe\">\n",
       "  <thead>\n",
       "    <tr style=\"text-align: right;\">\n",
       "      <th></th>\n",
       "      <th>HomePage</th>\n",
       "      <th>HomePage_Duration</th>\n",
       "      <th>LandingPage</th>\n",
       "      <th>LandingPage_Duration</th>\n",
       "      <th>ProductDescriptionPage</th>\n",
       "      <th>ProductDescriptionPage_Duration</th>\n",
       "      <th>GoogleMetric:Bounce Rates</th>\n",
       "      <th>GoogleMetric:Exit Rates</th>\n",
       "      <th>GoogleMetric:Page Values</th>\n",
       "      <th>SeasonalPurchase</th>\n",
       "      <th>...</th>\n",
       "      <th>OS</th>\n",
       "      <th>SearchEngine</th>\n",
       "      <th>Zone</th>\n",
       "      <th>Type of Traffic</th>\n",
       "      <th>CustomerType</th>\n",
       "      <th>Gender</th>\n",
       "      <th>Cookies Setting</th>\n",
       "      <th>Education</th>\n",
       "      <th>Marital Status</th>\n",
       "      <th>WeekendPurchase</th>\n",
       "    </tr>\n",
       "  </thead>\n",
       "  <tbody>\n",
       "    <tr>\n",
       "      <th>0</th>\n",
       "      <td>0.0</td>\n",
       "      <td>0.000000</td>\n",
       "      <td>0.0</td>\n",
       "      <td>0.0</td>\n",
       "      <td>1.0</td>\n",
       "      <td>0.000000</td>\n",
       "      <td>0.200000</td>\n",
       "      <td>0.200000</td>\n",
       "      <td>0.0</td>\n",
       "      <td>0.0</td>\n",
       "      <td>...</td>\n",
       "      <td>1.0</td>\n",
       "      <td>1.0</td>\n",
       "      <td>1.0</td>\n",
       "      <td>1.0</td>\n",
       "      <td>Returning_Visitor</td>\n",
       "      <td>Not Specified</td>\n",
       "      <td>Deny</td>\n",
       "      <td>Not Specified</td>\n",
       "      <td>Single</td>\n",
       "      <td>0.0</td>\n",
       "    </tr>\n",
       "    <tr>\n",
       "      <th>1</th>\n",
       "      <td>0.0</td>\n",
       "      <td>0.000000</td>\n",
       "      <td>0.0</td>\n",
       "      <td>0.0</td>\n",
       "      <td>2.0</td>\n",
       "      <td>64.000000</td>\n",
       "      <td>0.000000</td>\n",
       "      <td>0.100000</td>\n",
       "      <td>0.0</td>\n",
       "      <td>0.0</td>\n",
       "      <td>...</td>\n",
       "      <td>2.0</td>\n",
       "      <td>2.0</td>\n",
       "      <td>1.0</td>\n",
       "      <td>2.0</td>\n",
       "      <td>Returning_Visitor</td>\n",
       "      <td>Not Specified</td>\n",
       "      <td>ALL</td>\n",
       "      <td>Graduate</td>\n",
       "      <td>Married</td>\n",
       "      <td>0.0</td>\n",
       "    </tr>\n",
       "    <tr>\n",
       "      <th>2</th>\n",
       "      <td>0.0</td>\n",
       "      <td>0.000000</td>\n",
       "      <td>0.0</td>\n",
       "      <td>0.0</td>\n",
       "      <td>19.0</td>\n",
       "      <td>154.216667</td>\n",
       "      <td>0.015789</td>\n",
       "      <td>0.024561</td>\n",
       "      <td>0.0</td>\n",
       "      <td>0.0</td>\n",
       "      <td>...</td>\n",
       "      <td>2.0</td>\n",
       "      <td>2.0</td>\n",
       "      <td>1.0</td>\n",
       "      <td>3.0</td>\n",
       "      <td>Returning_Visitor</td>\n",
       "      <td>Female</td>\n",
       "      <td>Required</td>\n",
       "      <td>Diploma</td>\n",
       "      <td>Other</td>\n",
       "      <td>0.0</td>\n",
       "    </tr>\n",
       "    <tr>\n",
       "      <th>3</th>\n",
       "      <td>0.0</td>\n",
       "      <td>0.000000</td>\n",
       "      <td>0.0</td>\n",
       "      <td>0.0</td>\n",
       "      <td>2.0</td>\n",
       "      <td>37.000000</td>\n",
       "      <td>0.000000</td>\n",
       "      <td>0.100000</td>\n",
       "      <td>0.0</td>\n",
       "      <td>0.8</td>\n",
       "      <td>...</td>\n",
       "      <td>2.0</td>\n",
       "      <td>2.0</td>\n",
       "      <td>2.0</td>\n",
       "      <td>3.0</td>\n",
       "      <td>Returning_Visitor</td>\n",
       "      <td>Not Specified</td>\n",
       "      <td>Required</td>\n",
       "      <td>Graduate</td>\n",
       "      <td>Other</td>\n",
       "      <td>0.0</td>\n",
       "    </tr>\n",
       "    <tr>\n",
       "      <th>4</th>\n",
       "      <td>0.0</td>\n",
       "      <td>0.000000</td>\n",
       "      <td>0.0</td>\n",
       "      <td>0.0</td>\n",
       "      <td>16.0</td>\n",
       "      <td>407.750000</td>\n",
       "      <td>0.018750</td>\n",
       "      <td>0.025833</td>\n",
       "      <td>0.0</td>\n",
       "      <td>0.4</td>\n",
       "      <td>...</td>\n",
       "      <td>1.0</td>\n",
       "      <td>1.0</td>\n",
       "      <td>4.0</td>\n",
       "      <td>3.0</td>\n",
       "      <td>Returning_Visitor</td>\n",
       "      <td>Female</td>\n",
       "      <td>Deny</td>\n",
       "      <td>Others</td>\n",
       "      <td>Other</td>\n",
       "      <td>0.0</td>\n",
       "    </tr>\n",
       "    <tr>\n",
       "      <th>...</th>\n",
       "      <td>...</td>\n",
       "      <td>...</td>\n",
       "      <td>...</td>\n",
       "      <td>...</td>\n",
       "      <td>...</td>\n",
       "      <td>...</td>\n",
       "      <td>...</td>\n",
       "      <td>...</td>\n",
       "      <td>...</td>\n",
       "      <td>...</td>\n",
       "      <td>...</td>\n",
       "      <td>...</td>\n",
       "      <td>...</td>\n",
       "      <td>...</td>\n",
       "      <td>...</td>\n",
       "      <td>...</td>\n",
       "      <td>...</td>\n",
       "      <td>...</td>\n",
       "      <td>...</td>\n",
       "      <td>...</td>\n",
       "      <td>...</td>\n",
       "    </tr>\n",
       "    <tr>\n",
       "      <th>6594</th>\n",
       "      <td>0.0</td>\n",
       "      <td>0.000000</td>\n",
       "      <td>0.0</td>\n",
       "      <td>0.0</td>\n",
       "      <td>7.0</td>\n",
       "      <td>208.000000</td>\n",
       "      <td>0.000000</td>\n",
       "      <td>0.028571</td>\n",
       "      <td>0.0</td>\n",
       "      <td>0.0</td>\n",
       "      <td>...</td>\n",
       "      <td>4.0</td>\n",
       "      <td>1.0</td>\n",
       "      <td>1.0</td>\n",
       "      <td>5.0</td>\n",
       "      <td>Returning_Visitor</td>\n",
       "      <td>Not Specified</td>\n",
       "      <td>Required</td>\n",
       "      <td>Graduate</td>\n",
       "      <td>Other</td>\n",
       "      <td>1.0</td>\n",
       "    </tr>\n",
       "    <tr>\n",
       "      <th>6595</th>\n",
       "      <td>0.0</td>\n",
       "      <td>0.000000</td>\n",
       "      <td>3.0</td>\n",
       "      <td>44.0</td>\n",
       "      <td>179.0</td>\n",
       "      <td>1738.472529</td>\n",
       "      <td>0.000027</td>\n",
       "      <td>0.025998</td>\n",
       "      <td>0.0</td>\n",
       "      <td>0.0</td>\n",
       "      <td>...</td>\n",
       "      <td>2.0</td>\n",
       "      <td>4.0</td>\n",
       "      <td>9.0</td>\n",
       "      <td>11.0</td>\n",
       "      <td>Returning_Visitor</td>\n",
       "      <td>Male</td>\n",
       "      <td>Required</td>\n",
       "      <td>Not Specified</td>\n",
       "      <td>Other</td>\n",
       "      <td>0.0</td>\n",
       "    </tr>\n",
       "    <tr>\n",
       "      <th>6596</th>\n",
       "      <td>5.0</td>\n",
       "      <td>99.166667</td>\n",
       "      <td>1.0</td>\n",
       "      <td>27.0</td>\n",
       "      <td>33.0</td>\n",
       "      <td>NaN</td>\n",
       "      <td>0.002778</td>\n",
       "      <td>0.009127</td>\n",
       "      <td>0.0</td>\n",
       "      <td>0.6</td>\n",
       "      <td>...</td>\n",
       "      <td>8.0</td>\n",
       "      <td>5.0</td>\n",
       "      <td>1.0</td>\n",
       "      <td>2.0</td>\n",
       "      <td>Returning_Visitor</td>\n",
       "      <td>Female</td>\n",
       "      <td>Required</td>\n",
       "      <td>Graduate</td>\n",
       "      <td>Married</td>\n",
       "      <td>0.0</td>\n",
       "    </tr>\n",
       "    <tr>\n",
       "      <th>6597</th>\n",
       "      <td>0.0</td>\n",
       "      <td>0.000000</td>\n",
       "      <td>0.0</td>\n",
       "      <td>0.0</td>\n",
       "      <td>3.0</td>\n",
       "      <td>9.000000</td>\n",
       "      <td>0.066667</td>\n",
       "      <td>0.133333</td>\n",
       "      <td>0.0</td>\n",
       "      <td>0.0</td>\n",
       "      <td>...</td>\n",
       "      <td>2.0</td>\n",
       "      <td>2.0</td>\n",
       "      <td>2.0</td>\n",
       "      <td>3.0</td>\n",
       "      <td>Returning_Visitor</td>\n",
       "      <td>Not Specified</td>\n",
       "      <td>Deny</td>\n",
       "      <td>Diploma</td>\n",
       "      <td>Other</td>\n",
       "      <td>1.0</td>\n",
       "    </tr>\n",
       "    <tr>\n",
       "      <th>6598</th>\n",
       "      <td>0.0</td>\n",
       "      <td>0.000000</td>\n",
       "      <td>0.0</td>\n",
       "      <td>0.0</td>\n",
       "      <td>6.0</td>\n",
       "      <td>313.000000</td>\n",
       "      <td>0.000000</td>\n",
       "      <td>0.050000</td>\n",
       "      <td>0.0</td>\n",
       "      <td>0.0</td>\n",
       "      <td>...</td>\n",
       "      <td>2.0</td>\n",
       "      <td>4.0</td>\n",
       "      <td>3.0</td>\n",
       "      <td>1.0</td>\n",
       "      <td>Returning_Visitor</td>\n",
       "      <td>Male</td>\n",
       "      <td>Required</td>\n",
       "      <td>Diploma</td>\n",
       "      <td>Single</td>\n",
       "      <td>0.0</td>\n",
       "    </tr>\n",
       "  </tbody>\n",
       "</table>\n",
       "<p>6599 rows × 21 columns</p>\n",
       "</div>"
      ],
      "text/plain": [
       "      HomePage  HomePage_Duration  LandingPage  LandingPage_Duration  \\\n",
       "0          0.0           0.000000          0.0                   0.0   \n",
       "1          0.0           0.000000          0.0                   0.0   \n",
       "2          0.0           0.000000          0.0                   0.0   \n",
       "3          0.0           0.000000          0.0                   0.0   \n",
       "4          0.0           0.000000          0.0                   0.0   \n",
       "...        ...                ...          ...                   ...   \n",
       "6594       0.0           0.000000          0.0                   0.0   \n",
       "6595       0.0           0.000000          3.0                  44.0   \n",
       "6596       5.0          99.166667          1.0                  27.0   \n",
       "6597       0.0           0.000000          0.0                   0.0   \n",
       "6598       0.0           0.000000          0.0                   0.0   \n",
       "\n",
       "      ProductDescriptionPage  ProductDescriptionPage_Duration  \\\n",
       "0                        1.0                         0.000000   \n",
       "1                        2.0                        64.000000   \n",
       "2                       19.0                       154.216667   \n",
       "3                        2.0                        37.000000   \n",
       "4                       16.0                       407.750000   \n",
       "...                      ...                              ...   \n",
       "6594                     7.0                       208.000000   \n",
       "6595                   179.0                      1738.472529   \n",
       "6596                    33.0                              NaN   \n",
       "6597                     3.0                         9.000000   \n",
       "6598                     6.0                       313.000000   \n",
       "\n",
       "      GoogleMetric:Bounce Rates  GoogleMetric:Exit Rates  \\\n",
       "0                      0.200000                 0.200000   \n",
       "1                      0.000000                 0.100000   \n",
       "2                      0.015789                 0.024561   \n",
       "3                      0.000000                 0.100000   \n",
       "4                      0.018750                 0.025833   \n",
       "...                         ...                      ...   \n",
       "6594                   0.000000                 0.028571   \n",
       "6595                   0.000027                 0.025998   \n",
       "6596                   0.002778                 0.009127   \n",
       "6597                   0.066667                 0.133333   \n",
       "6598                   0.000000                 0.050000   \n",
       "\n",
       "      GoogleMetric:Page Values  SeasonalPurchase  ...   OS  SearchEngine  \\\n",
       "0                          0.0               0.0  ...  1.0           1.0   \n",
       "1                          0.0               0.0  ...  2.0           2.0   \n",
       "2                          0.0               0.0  ...  2.0           2.0   \n",
       "3                          0.0               0.8  ...  2.0           2.0   \n",
       "4                          0.0               0.4  ...  1.0           1.0   \n",
       "...                        ...               ...  ...  ...           ...   \n",
       "6594                       0.0               0.0  ...  4.0           1.0   \n",
       "6595                       0.0               0.0  ...  2.0           4.0   \n",
       "6596                       0.0               0.6  ...  8.0           5.0   \n",
       "6597                       0.0               0.0  ...  2.0           2.0   \n",
       "6598                       0.0               0.0  ...  2.0           4.0   \n",
       "\n",
       "      Zone  Type of Traffic       CustomerType         Gender Cookies Setting  \\\n",
       "0      1.0              1.0  Returning_Visitor  Not Specified            Deny   \n",
       "1      1.0              2.0  Returning_Visitor  Not Specified             ALL   \n",
       "2      1.0              3.0  Returning_Visitor         Female        Required   \n",
       "3      2.0              3.0  Returning_Visitor  Not Specified        Required   \n",
       "4      4.0              3.0  Returning_Visitor         Female            Deny   \n",
       "...    ...              ...                ...            ...             ...   \n",
       "6594   1.0              5.0  Returning_Visitor  Not Specified        Required   \n",
       "6595   9.0             11.0  Returning_Visitor           Male        Required   \n",
       "6596   1.0              2.0  Returning_Visitor         Female        Required   \n",
       "6597   2.0              3.0  Returning_Visitor  Not Specified            Deny   \n",
       "6598   3.0              1.0  Returning_Visitor           Male        Required   \n",
       "\n",
       "          Education Marital Status WeekendPurchase  \n",
       "0     Not Specified         Single             0.0  \n",
       "1          Graduate        Married             0.0  \n",
       "2           Diploma          Other             0.0  \n",
       "3          Graduate          Other             0.0  \n",
       "4            Others          Other             0.0  \n",
       "...             ...            ...             ...  \n",
       "6594       Graduate          Other             1.0  \n",
       "6595  Not Specified          Other             0.0  \n",
       "6596       Graduate        Married             0.0  \n",
       "6597        Diploma          Other             1.0  \n",
       "6598        Diploma         Single             0.0  \n",
       "\n",
       "[6599 rows x 21 columns]"
      ]
     },
     "execution_count": 4,
     "metadata": {},
     "output_type": "execute_result"
    }
   ],
   "source": [
    "\n",
    "\n",
    "train_data # training data\n",
    "test_data  # testing data"
   ]
  },
  {
   "cell_type": "markdown",
   "id": "62566a68",
   "metadata": {
    "papermill": {
     "duration": 0.013828,
     "end_time": "2023-04-03T16:58:52.448089",
     "exception": false,
     "start_time": "2023-04-03T16:58:52.434261",
     "status": "completed"
    },
    "tags": []
   },
   "source": [
    "**Information**"
   ]
  },
  {
   "cell_type": "code",
   "execution_count": 5,
   "id": "bca57256",
   "metadata": {
    "execution": {
     "iopub.execute_input": "2023-04-03T16:58:52.478555Z",
     "iopub.status.busy": "2023-04-03T16:58:52.478152Z",
     "iopub.status.idle": "2023-04-03T16:58:52.518477Z",
     "shell.execute_reply": "2023-04-03T16:58:52.517077Z"
    },
    "papermill": {
     "duration": 0.059477,
     "end_time": "2023-04-03T16:58:52.521799",
     "exception": false,
     "start_time": "2023-04-03T16:58:52.462322",
     "status": "completed"
    },
    "tags": []
   },
   "outputs": [
    {
     "name": "stdout",
     "output_type": "stream",
     "text": [
      "<class 'pandas.core.frame.DataFrame'>\n",
      "RangeIndex: 14731 entries, 0 to 14730\n",
      "Data columns (total 22 columns):\n",
      " #   Column                           Non-Null Count  Dtype  \n",
      "---  ------                           --------------  -----  \n",
      " 0   HomePage                         14578 non-null  float64\n",
      " 1   HomePage_Duration                14581 non-null  float64\n",
      " 2   LandingPage                      14578 non-null  float64\n",
      " 3   LandingPage_Duration             14596 non-null  float64\n",
      " 4   ProductDescriptionPage           14608 non-null  float64\n",
      " 5   ProductDescriptionPage_Duration  14564 non-null  float64\n",
      " 6   GoogleMetric:Bounce Rates        14580 non-null  float64\n",
      " 7   GoogleMetric:Exit Rates          14602 non-null  float64\n",
      " 8   GoogleMetric:Page Values         14599 non-null  float64\n",
      " 9   SeasonalPurchase                 14581 non-null  float64\n",
      " 10  Month_SeasonalPurchase           14587 non-null  object \n",
      " 11  OS                               14597 non-null  float64\n",
      " 12  SearchEngine                     14609 non-null  float64\n",
      " 13  Zone                             14614 non-null  float64\n",
      " 14  Type of Traffic                  14588 non-null  float64\n",
      " 15  CustomerType                     14587 non-null  object \n",
      " 16  Gender                           14586 non-null  object \n",
      " 17  Cookies Setting                  14587 non-null  object \n",
      " 18  Education                        14595 non-null  object \n",
      " 19  Marital Status                   14601 non-null  object \n",
      " 20  WeekendPurchase                  14610 non-null  float64\n",
      " 21  Made_Purchase                    14731 non-null  bool   \n",
      "dtypes: bool(1), float64(15), object(6)\n",
      "memory usage: 2.4+ MB\n",
      "<class 'pandas.core.frame.DataFrame'>\n",
      "RangeIndex: 6599 entries, 0 to 6598\n",
      "Data columns (total 21 columns):\n",
      " #   Column                           Non-Null Count  Dtype  \n",
      "---  ------                           --------------  -----  \n",
      " 0   HomePage                         6548 non-null   float64\n",
      " 1   HomePage_Duration                6544 non-null   float64\n",
      " 2   LandingPage                      6543 non-null   float64\n",
      " 3   LandingPage_Duration             6524 non-null   float64\n",
      " 4   ProductDescriptionPage           6541 non-null   float64\n",
      " 5   ProductDescriptionPage_Duration  6536 non-null   float64\n",
      " 6   GoogleMetric:Bounce Rates        6533 non-null   float64\n",
      " 7   GoogleMetric:Exit Rates          6548 non-null   float64\n",
      " 8   GoogleMetric:Page Values         6554 non-null   float64\n",
      " 9   SeasonalPurchase                 6554 non-null   float64\n",
      " 10  Month_SeasonalPurchase           6541 non-null   object \n",
      " 11  OS                               6537 non-null   float64\n",
      " 12  SearchEngine                     6541 non-null   float64\n",
      " 13  Zone                             6552 non-null   float64\n",
      " 14  Type of Traffic                  6531 non-null   float64\n",
      " 15  CustomerType                     6511 non-null   object \n",
      " 16  Gender                           6535 non-null   object \n",
      " 17  Cookies Setting                  6537 non-null   object \n",
      " 18  Education                        6530 non-null   object \n",
      " 19  Marital Status                   6552 non-null   object \n",
      " 20  WeekendPurchase                  6541 non-null   float64\n",
      "dtypes: float64(15), object(6)\n",
      "memory usage: 1.1+ MB\n"
     ]
    }
   ],
   "source": [
    "\n",
    "\n",
    "train_data.info() # training data\n",
    "test_data.info() # testing data"
   ]
  },
  {
   "cell_type": "markdown",
   "id": "7e8967ce",
   "metadata": {
    "papermill": {
     "duration": 0.014085,
     "end_time": "2023-04-03T16:58:52.550477",
     "exception": false,
     "start_time": "2023-04-03T16:58:52.536392",
     "status": "completed"
    },
    "tags": []
   },
   "source": [
    "**Columns**"
   ]
  },
  {
   "cell_type": "code",
   "execution_count": 6,
   "id": "d878d3f4",
   "metadata": {
    "execution": {
     "iopub.execute_input": "2023-04-03T16:58:52.581540Z",
     "iopub.status.busy": "2023-04-03T16:58:52.581105Z",
     "iopub.status.idle": "2023-04-03T16:58:52.589719Z",
     "shell.execute_reply": "2023-04-03T16:58:52.588473Z"
    },
    "papermill": {
     "duration": 0.02713,
     "end_time": "2023-04-03T16:58:52.592201",
     "exception": false,
     "start_time": "2023-04-03T16:58:52.565071",
     "status": "completed"
    },
    "tags": []
   },
   "outputs": [
    {
     "data": {
      "text/plain": [
       "Index(['HomePage', 'HomePage_Duration', 'LandingPage', 'LandingPage_Duration',\n",
       "       'ProductDescriptionPage', 'ProductDescriptionPage_Duration',\n",
       "       'GoogleMetric:Bounce Rates', 'GoogleMetric:Exit Rates',\n",
       "       'GoogleMetric:Page Values', 'SeasonalPurchase',\n",
       "       'Month_SeasonalPurchase', 'OS', 'SearchEngine', 'Zone',\n",
       "       'Type of Traffic', 'CustomerType', 'Gender', 'Cookies Setting',\n",
       "       'Education', 'Marital Status', 'WeekendPurchase'],\n",
       "      dtype='object')"
      ]
     },
     "execution_count": 6,
     "metadata": {},
     "output_type": "execute_result"
    }
   ],
   "source": [
    "\n",
    "\n",
    "train_data.columns # Displays all columns in training data\n",
    "test_data.columns # Displays all columns in testing data"
   ]
  },
  {
   "cell_type": "markdown",
   "id": "8f69aaf8",
   "metadata": {
    "papermill": {
     "duration": 0.014203,
     "end_time": "2023-04-03T16:58:52.621597",
     "exception": false,
     "start_time": "2023-04-03T16:58:52.607394",
     "status": "completed"
    },
    "tags": []
   },
   "source": [
    "**Summary Statistics**"
   ]
  },
  {
   "cell_type": "code",
   "execution_count": 7,
   "id": "54319e94",
   "metadata": {
    "execution": {
     "iopub.execute_input": "2023-04-03T16:58:52.653425Z",
     "iopub.status.busy": "2023-04-03T16:58:52.652213Z",
     "iopub.status.idle": "2023-04-03T16:58:52.760442Z",
     "shell.execute_reply": "2023-04-03T16:58:52.759056Z"
    },
    "papermill": {
     "duration": 0.127187,
     "end_time": "2023-04-03T16:58:52.763424",
     "exception": false,
     "start_time": "2023-04-03T16:58:52.636237",
     "status": "completed"
    },
    "tags": []
   },
   "outputs": [
    {
     "data": {
      "text/html": [
       "<div>\n",
       "<style scoped>\n",
       "    .dataframe tbody tr th:only-of-type {\n",
       "        vertical-align: middle;\n",
       "    }\n",
       "\n",
       "    .dataframe tbody tr th {\n",
       "        vertical-align: top;\n",
       "    }\n",
       "\n",
       "    .dataframe thead th {\n",
       "        text-align: right;\n",
       "    }\n",
       "</style>\n",
       "<table border=\"1\" class=\"dataframe\">\n",
       "  <thead>\n",
       "    <tr style=\"text-align: right;\">\n",
       "      <th></th>\n",
       "      <th>HomePage</th>\n",
       "      <th>HomePage_Duration</th>\n",
       "      <th>LandingPage</th>\n",
       "      <th>LandingPage_Duration</th>\n",
       "      <th>ProductDescriptionPage</th>\n",
       "      <th>ProductDescriptionPage_Duration</th>\n",
       "      <th>GoogleMetric:Bounce Rates</th>\n",
       "      <th>GoogleMetric:Exit Rates</th>\n",
       "      <th>GoogleMetric:Page Values</th>\n",
       "      <th>SeasonalPurchase</th>\n",
       "      <th>OS</th>\n",
       "      <th>SearchEngine</th>\n",
       "      <th>Zone</th>\n",
       "      <th>Type of Traffic</th>\n",
       "      <th>WeekendPurchase</th>\n",
       "    </tr>\n",
       "  </thead>\n",
       "  <tbody>\n",
       "    <tr>\n",
       "      <th>count</th>\n",
       "      <td>6548.000000</td>\n",
       "      <td>6544.000000</td>\n",
       "      <td>6543.000000</td>\n",
       "      <td>6524.000000</td>\n",
       "      <td>6541.000000</td>\n",
       "      <td>6536.000000</td>\n",
       "      <td>6533.000000</td>\n",
       "      <td>6548.000000</td>\n",
       "      <td>6554.000000</td>\n",
       "      <td>6554.000000</td>\n",
       "      <td>6537.000000</td>\n",
       "      <td>6541.000000</td>\n",
       "      <td>6552.000000</td>\n",
       "      <td>6531.000000</td>\n",
       "      <td>6541.000000</td>\n",
       "    </tr>\n",
       "    <tr>\n",
       "      <th>mean</th>\n",
       "      <td>2.283293</td>\n",
       "      <td>76.994609</td>\n",
       "      <td>0.494727</td>\n",
       "      <td>32.907760</td>\n",
       "      <td>30.742088</td>\n",
       "      <td>1151.231143</td>\n",
       "      <td>0.022392</td>\n",
       "      <td>0.043874</td>\n",
       "      <td>4.982108</td>\n",
       "      <td>0.064297</td>\n",
       "      <td>2.134006</td>\n",
       "      <td>2.357743</td>\n",
       "      <td>3.184676</td>\n",
       "      <td>4.041954</td>\n",
       "      <td>0.227947</td>\n",
       "    </tr>\n",
       "    <tr>\n",
       "      <th>std</th>\n",
       "      <td>3.345387</td>\n",
       "      <td>168.679695</td>\n",
       "      <td>1.272524</td>\n",
       "      <td>134.683314</td>\n",
       "      <td>43.539549</td>\n",
       "      <td>1917.250309</td>\n",
       "      <td>0.048374</td>\n",
       "      <td>0.048290</td>\n",
       "      <td>17.635847</td>\n",
       "      <td>0.202678</td>\n",
       "      <td>0.909340</td>\n",
       "      <td>1.721375</td>\n",
       "      <td>2.407328</td>\n",
       "      <td>4.027747</td>\n",
       "      <td>0.419540</td>\n",
       "    </tr>\n",
       "    <tr>\n",
       "      <th>min</th>\n",
       "      <td>0.000000</td>\n",
       "      <td>0.000000</td>\n",
       "      <td>0.000000</td>\n",
       "      <td>0.000000</td>\n",
       "      <td>0.000000</td>\n",
       "      <td>0.000000</td>\n",
       "      <td>0.000000</td>\n",
       "      <td>0.000000</td>\n",
       "      <td>0.000000</td>\n",
       "      <td>0.000000</td>\n",
       "      <td>1.000000</td>\n",
       "      <td>1.000000</td>\n",
       "      <td>1.000000</td>\n",
       "      <td>1.000000</td>\n",
       "      <td>0.000000</td>\n",
       "    </tr>\n",
       "    <tr>\n",
       "      <th>25%</th>\n",
       "      <td>0.000000</td>\n",
       "      <td>0.000000</td>\n",
       "      <td>0.000000</td>\n",
       "      <td>0.000000</td>\n",
       "      <td>7.000000</td>\n",
       "      <td>172.127778</td>\n",
       "      <td>0.000000</td>\n",
       "      <td>0.014543</td>\n",
       "      <td>0.000000</td>\n",
       "      <td>0.000000</td>\n",
       "      <td>2.000000</td>\n",
       "      <td>2.000000</td>\n",
       "      <td>1.000000</td>\n",
       "      <td>2.000000</td>\n",
       "      <td>0.000000</td>\n",
       "    </tr>\n",
       "    <tr>\n",
       "      <th>50%</th>\n",
       "      <td>1.000000</td>\n",
       "      <td>4.875000</td>\n",
       "      <td>0.000000</td>\n",
       "      <td>0.000000</td>\n",
       "      <td>17.000000</td>\n",
       "      <td>570.341614</td>\n",
       "      <td>0.003165</td>\n",
       "      <td>0.026458</td>\n",
       "      <td>0.000000</td>\n",
       "      <td>0.000000</td>\n",
       "      <td>2.000000</td>\n",
       "      <td>2.000000</td>\n",
       "      <td>3.000000</td>\n",
       "      <td>2.000000</td>\n",
       "      <td>0.000000</td>\n",
       "    </tr>\n",
       "    <tr>\n",
       "      <th>75%</th>\n",
       "      <td>4.000000</td>\n",
       "      <td>91.000000</td>\n",
       "      <td>0.000000</td>\n",
       "      <td>0.000000</td>\n",
       "      <td>37.000000</td>\n",
       "      <td>1425.750000</td>\n",
       "      <td>0.017778</td>\n",
       "      <td>0.050000</td>\n",
       "      <td>0.000000</td>\n",
       "      <td>0.000000</td>\n",
       "      <td>3.000000</td>\n",
       "      <td>2.000000</td>\n",
       "      <td>4.000000</td>\n",
       "      <td>4.000000</td>\n",
       "      <td>0.000000</td>\n",
       "    </tr>\n",
       "    <tr>\n",
       "      <th>max</th>\n",
       "      <td>26.000000</td>\n",
       "      <td>3398.750000</td>\n",
       "      <td>24.000000</td>\n",
       "      <td>2549.375000</td>\n",
       "      <td>705.000000</td>\n",
       "      <td>63973.522230</td>\n",
       "      <td>0.200000</td>\n",
       "      <td>0.200000</td>\n",
       "      <td>361.763742</td>\n",
       "      <td>1.000000</td>\n",
       "      <td>8.000000</td>\n",
       "      <td>13.000000</td>\n",
       "      <td>9.000000</td>\n",
       "      <td>20.000000</td>\n",
       "      <td>1.000000</td>\n",
       "    </tr>\n",
       "  </tbody>\n",
       "</table>\n",
       "</div>"
      ],
      "text/plain": [
       "          HomePage  HomePage_Duration  LandingPage  LandingPage_Duration  \\\n",
       "count  6548.000000        6544.000000  6543.000000           6524.000000   \n",
       "mean      2.283293          76.994609     0.494727             32.907760   \n",
       "std       3.345387         168.679695     1.272524            134.683314   \n",
       "min       0.000000           0.000000     0.000000              0.000000   \n",
       "25%       0.000000           0.000000     0.000000              0.000000   \n",
       "50%       1.000000           4.875000     0.000000              0.000000   \n",
       "75%       4.000000          91.000000     0.000000              0.000000   \n",
       "max      26.000000        3398.750000    24.000000           2549.375000   \n",
       "\n",
       "       ProductDescriptionPage  ProductDescriptionPage_Duration  \\\n",
       "count             6541.000000                      6536.000000   \n",
       "mean                30.742088                      1151.231143   \n",
       "std                 43.539549                      1917.250309   \n",
       "min                  0.000000                         0.000000   \n",
       "25%                  7.000000                       172.127778   \n",
       "50%                 17.000000                       570.341614   \n",
       "75%                 37.000000                      1425.750000   \n",
       "max                705.000000                     63973.522230   \n",
       "\n",
       "       GoogleMetric:Bounce Rates  GoogleMetric:Exit Rates  \\\n",
       "count                6533.000000              6548.000000   \n",
       "mean                    0.022392                 0.043874   \n",
       "std                     0.048374                 0.048290   \n",
       "min                     0.000000                 0.000000   \n",
       "25%                     0.000000                 0.014543   \n",
       "50%                     0.003165                 0.026458   \n",
       "75%                     0.017778                 0.050000   \n",
       "max                     0.200000                 0.200000   \n",
       "\n",
       "       GoogleMetric:Page Values  SeasonalPurchase           OS  SearchEngine  \\\n",
       "count               6554.000000       6554.000000  6537.000000   6541.000000   \n",
       "mean                   4.982108          0.064297     2.134006      2.357743   \n",
       "std                   17.635847          0.202678     0.909340      1.721375   \n",
       "min                    0.000000          0.000000     1.000000      1.000000   \n",
       "25%                    0.000000          0.000000     2.000000      2.000000   \n",
       "50%                    0.000000          0.000000     2.000000      2.000000   \n",
       "75%                    0.000000          0.000000     3.000000      2.000000   \n",
       "max                  361.763742          1.000000     8.000000     13.000000   \n",
       "\n",
       "              Zone  Type of Traffic  WeekendPurchase  \n",
       "count  6552.000000      6531.000000      6541.000000  \n",
       "mean      3.184676         4.041954         0.227947  \n",
       "std       2.407328         4.027747         0.419540  \n",
       "min       1.000000         1.000000         0.000000  \n",
       "25%       1.000000         2.000000         0.000000  \n",
       "50%       3.000000         2.000000         0.000000  \n",
       "75%       4.000000         4.000000         0.000000  \n",
       "max       9.000000        20.000000         1.000000  "
      ]
     },
     "execution_count": 7,
     "metadata": {},
     "output_type": "execute_result"
    }
   ],
   "source": [
    "\n",
    "\n",
    "train_data.describe()  # description regarding training data\n",
    "test_data.describe()   # description regarding testing data  "
   ]
  },
  {
   "cell_type": "markdown",
   "id": "4c62c10a",
   "metadata": {
    "papermill": {
     "duration": 0.01468,
     "end_time": "2023-04-03T16:58:52.793744",
     "exception": false,
     "start_time": "2023-04-03T16:58:52.779064",
     "status": "completed"
    },
    "tags": []
   },
   "source": [
    "**Shape**"
   ]
  },
  {
   "cell_type": "code",
   "execution_count": 8,
   "id": "8c209773",
   "metadata": {
    "execution": {
     "iopub.execute_input": "2023-04-03T16:58:52.826386Z",
     "iopub.status.busy": "2023-04-03T16:58:52.825983Z",
     "iopub.status.idle": "2023-04-03T16:58:52.831272Z",
     "shell.execute_reply": "2023-04-03T16:58:52.830550Z"
    },
    "papermill": {
     "duration": 0.024847,
     "end_time": "2023-04-03T16:58:52.833890",
     "exception": false,
     "start_time": "2023-04-03T16:58:52.809043",
     "status": "completed"
    },
    "tags": []
   },
   "outputs": [
    {
     "data": {
      "text/plain": [
       "(6599, 21)"
      ]
     },
     "execution_count": 8,
     "metadata": {},
     "output_type": "execute_result"
    }
   ],
   "source": [
    "\n",
    "\n",
    "train_data.shape  # displays shape of training data\n",
    "test_data.shape   # displays shape of testing data"
   ]
  },
  {
   "cell_type": "markdown",
   "id": "4c625816",
   "metadata": {
    "papermill": {
     "duration": 0.01455,
     "end_time": "2023-04-03T16:58:52.863377",
     "exception": false,
     "start_time": "2023-04-03T16:58:52.848827",
     "status": "completed"
    },
    "tags": []
   },
   "source": [
    "**Missing Values**"
   ]
  },
  {
   "cell_type": "code",
   "execution_count": 9,
   "id": "557ad187",
   "metadata": {
    "execution": {
     "iopub.execute_input": "2023-04-03T16:58:52.895244Z",
     "iopub.status.busy": "2023-04-03T16:58:52.894816Z",
     "iopub.status.idle": "2023-04-03T16:58:52.913531Z",
     "shell.execute_reply": "2023-04-03T16:58:52.912355Z"
    },
    "papermill": {
     "duration": 0.037563,
     "end_time": "2023-04-03T16:58:52.915870",
     "exception": false,
     "start_time": "2023-04-03T16:58:52.878307",
     "status": "completed"
    },
    "tags": []
   },
   "outputs": [
    {
     "data": {
      "text/plain": [
       "HomePage                           51\n",
       "HomePage_Duration                  55\n",
       "LandingPage                        56\n",
       "LandingPage_Duration               75\n",
       "ProductDescriptionPage             58\n",
       "ProductDescriptionPage_Duration    63\n",
       "GoogleMetric:Bounce Rates          66\n",
       "GoogleMetric:Exit Rates            51\n",
       "GoogleMetric:Page Values           45\n",
       "SeasonalPurchase                   45\n",
       "Month_SeasonalPurchase             58\n",
       "OS                                 62\n",
       "SearchEngine                       58\n",
       "Zone                               47\n",
       "Type of Traffic                    68\n",
       "CustomerType                       88\n",
       "Gender                             64\n",
       "Cookies Setting                    62\n",
       "Education                          69\n",
       "Marital Status                     47\n",
       "WeekendPurchase                    58\n",
       "dtype: int64"
      ]
     },
     "execution_count": 9,
     "metadata": {},
     "output_type": "execute_result"
    }
   ],
   "source": [
    "# checking for missing values in training and test data\n",
    "\n",
    "train_data.isna().sum()\n",
    "test_data.isna().sum()"
   ]
  },
  {
   "cell_type": "markdown",
   "id": "7bb70326",
   "metadata": {
    "papermill": {
     "duration": 0.015069,
     "end_time": "2023-04-03T16:58:52.946296",
     "exception": false,
     "start_time": "2023-04-03T16:58:52.931227",
     "status": "completed"
    },
    "tags": []
   },
   "source": [
    "**Categories**"
   ]
  },
  {
   "cell_type": "code",
   "execution_count": 10,
   "id": "22d7b7ea",
   "metadata": {
    "execution": {
     "iopub.execute_input": "2023-04-03T16:58:52.979069Z",
     "iopub.status.busy": "2023-04-03T16:58:52.978584Z",
     "iopub.status.idle": "2023-04-03T16:58:53.009739Z",
     "shell.execute_reply": "2023-04-03T16:58:53.008425Z"
    },
    "papermill": {
     "duration": 0.050737,
     "end_time": "2023-04-03T16:58:53.012175",
     "exception": false,
     "start_time": "2023-04-03T16:58:52.961438",
     "status": "completed"
    },
    "tags": []
   },
   "outputs": [
    {
     "data": {
      "text/plain": [
       "HomePage                             26\n",
       "HomePage_Duration                  1745\n",
       "LandingPage                          15\n",
       "LandingPage_Duration                667\n",
       "ProductDescriptionPage              242\n",
       "ProductDescriptionPage_Duration    4536\n",
       "GoogleMetric:Bounce Rates          1056\n",
       "GoogleMetric:Exit Rates            2390\n",
       "GoogleMetric:Page Values           1098\n",
       "SeasonalPurchase                      6\n",
       "Month_SeasonalPurchase               10\n",
       "OS                                    8\n",
       "SearchEngine                         13\n",
       "Zone                                  9\n",
       "Type of Traffic                      17\n",
       "CustomerType                          3\n",
       "Gender                                3\n",
       "Cookies Setting                       3\n",
       "Education                             4\n",
       "Marital Status                        3\n",
       "WeekendPurchase                       2\n",
       "dtype: int64"
      ]
     },
     "execution_count": 10,
     "metadata": {},
     "output_type": "execute_result"
    }
   ],
   "source": [
    "# checking for unique categories in training and test data\n",
    "\n",
    "train_data.nunique()\n",
    "test_data.nunique()"
   ]
  },
  {
   "cell_type": "markdown",
   "id": "35b97418",
   "metadata": {
    "papermill": {
     "duration": 0.014872,
     "end_time": "2023-04-03T16:58:53.042706",
     "exception": false,
     "start_time": "2023-04-03T16:58:53.027834",
     "status": "completed"
    },
    "tags": []
   },
   "source": [
    "**Correlation**"
   ]
  },
  {
   "cell_type": "code",
   "execution_count": 11,
   "id": "db7a92aa",
   "metadata": {
    "execution": {
     "iopub.execute_input": "2023-04-03T16:58:53.075357Z",
     "iopub.status.busy": "2023-04-03T16:58:53.074850Z",
     "iopub.status.idle": "2023-04-03T16:58:54.087216Z",
     "shell.execute_reply": "2023-04-03T16:58:54.085875Z"
    },
    "papermill": {
     "duration": 1.032256,
     "end_time": "2023-04-03T16:58:54.090236",
     "exception": false,
     "start_time": "2023-04-03T16:58:53.057980",
     "status": "completed"
    },
    "tags": []
   },
   "outputs": [
    {
     "data": {
      "image/png": "[encoded data removed]",
      "text/plain": [
       "<Figure size 864x864 with 2 Axes>"
      ]
     },
     "metadata": {
      "needs_background": "light"
     },
     "output_type": "display_data"
    }
   ],
   "source": [
    "heatmap = np.triu(train_data.corr())\n",
    "figure, axis = plt.subplots(figsize=(12,12))\n",
    "sns.heatmap(train_data.corr(), annot=True, ax=axis, fmt='.1g', vmin=-1, vmax=1, center= 0, mask=heatmap, cmap='RdBu_r')\n",
    "plt.show()"
   ]
  },
  {
   "cell_type": "markdown",
   "id": "20b64e2b",
   "metadata": {
    "papermill": {
     "duration": 0.017649,
     "end_time": "2023-04-03T16:58:54.125839",
     "exception": false,
     "start_time": "2023-04-03T16:58:54.108190",
     "status": "completed"
    },
    "tags": []
   },
   "source": [
    "**Page Metrics**"
   ]
  },
  {
   "cell_type": "code",
   "execution_count": 12,
   "id": "a1f04909",
   "metadata": {
    "execution": {
     "iopub.execute_input": "2023-04-03T16:58:54.163035Z",
     "iopub.status.busy": "2023-04-03T16:58:54.162533Z",
     "iopub.status.idle": "2023-04-03T16:58:54.170986Z",
     "shell.execute_reply": "2023-04-03T16:58:54.169891Z"
    },
    "papermill": {
     "duration": 0.029795,
     "end_time": "2023-04-03T16:58:54.173180",
     "exception": false,
     "start_time": "2023-04-03T16:58:54.143385",
     "status": "completed"
    },
    "tags": []
   },
   "outputs": [
    {
     "data": {
      "text/plain": [
       "Index(['HomePage', 'HomePage_Duration', 'LandingPage', 'LandingPage_Duration',\n",
       "       'ProductDescriptionPage', 'ProductDescriptionPage_Duration',\n",
       "       'GoogleMetric:Bounce Rates', 'GoogleMetric:Exit Rates',\n",
       "       'GoogleMetric:Page Values', 'SeasonalPurchase',\n",
       "       'Month_SeasonalPurchase', 'OS', 'SearchEngine', 'Zone',\n",
       "       'Type of Traffic', 'CustomerType', 'Gender', 'Cookies Setting',\n",
       "       'Education', 'Marital Status', 'WeekendPurchase', 'Made_Purchase'],\n",
       "      dtype='object')"
      ]
     },
     "execution_count": 12,
     "metadata": {},
     "output_type": "execute_result"
    }
   ],
   "source": [
    "train_data.columns"
   ]
  },
  {
   "cell_type": "code",
   "execution_count": 13,
   "id": "dd863a71",
   "metadata": {
    "execution": {
     "iopub.execute_input": "2023-04-03T16:58:54.210670Z",
     "iopub.status.busy": "2023-04-03T16:58:54.210131Z",
     "iopub.status.idle": "2023-04-03T16:58:55.285086Z",
     "shell.execute_reply": "2023-04-03T16:58:55.284115Z"
    },
    "papermill": {
     "duration": 1.096709,
     "end_time": "2023-04-03T16:58:55.287452",
     "exception": false,
     "start_time": "2023-04-03T16:58:54.190743",
     "status": "completed"
    },
    "tags": []
   },
   "outputs": [
    {
     "name": "stderr",
     "output_type": "stream",
     "text": [
      "/opt/conda/lib/python3.7/site-packages/seaborn/distributions.py:2619: FutureWarning: `distplot` is a deprecated function and will be removed in a future version. Please adapt your code to use either `displot` (a figure-level function with similar flexibility) or `histplot` (an axes-level function for histograms).\n",
      "  warnings.warn(msg, FutureWarning)\n",
      "/opt/conda/lib/python3.7/site-packages/seaborn/distributions.py:2619: FutureWarning: `distplot` is a deprecated function and will be removed in a future version. Please adapt your code to use either `displot` (a figure-level function with similar flexibility) or `histplot` (an axes-level function for histograms).\n",
      "  warnings.warn(msg, FutureWarning)\n",
      "/opt/conda/lib/python3.7/site-packages/seaborn/distributions.py:2619: FutureWarning: `distplot` is a deprecated function and will be removed in a future version. Please adapt your code to use either `displot` (a figure-level function with similar flexibility) or `histplot` (an axes-level function for histograms).\n",
      "  warnings.warn(msg, FutureWarning)\n"
     ]
    },
    {
     "data": {
      "image/png": "[encoded data removed]",
      "text/plain": [
       "<Figure size 1152x288 with 3 Axes>"
      ]
     },
     "metadata": {
      "needs_background": "light"
     },
     "output_type": "display_data"
    }
   ],
   "source": [
    "figure = plt.figure(figsize=(16, 4))\n",
    "\n",
    "axis_1 = figure.add_subplot(1, 3, 1)\n",
    "axis_2 = figure.add_subplot(1, 3, 2)\n",
    "axis_3 = figure.add_subplot(1, 3, 3)\n",
    "\n",
    "sns.distplot(train_data['GoogleMetric:Bounce Rates'], bins=20, ax=axis_1)\n",
    "sns.distplot(train_data['GoogleMetric:Exit Rates'], bins=20, ax=axis_2)\n",
    "sns.distplot(train_data['GoogleMetric:Page Values'], bins=20, ax=axis_3)\n",
    "\n",
    "plt.tight_layout()\n",
    "plt.show()"
   ]
  },
  {
   "cell_type": "markdown",
   "id": "ac618352",
   "metadata": {
    "papermill": {
     "duration": 0.01702,
     "end_time": "2023-04-03T16:58:55.322693",
     "exception": false,
     "start_time": "2023-04-03T16:58:55.305673",
     "status": "completed"
    },
    "tags": []
   },
   "source": [
    "# **Data Preprocessing**"
   ]
  },
  {
   "cell_type": "markdown",
   "id": "fbecaadf",
   "metadata": {
    "papermill": {
     "duration": 0.017091,
     "end_time": "2023-04-03T16:58:55.357197",
     "exception": false,
     "start_time": "2023-04-03T16:58:55.340106",
     "status": "completed"
    },
    "tags": []
   },
   "source": [
    "**One Hot Encoding**"
   ]
  },
  {
   "cell_type": "code",
   "execution_count": 14,
   "id": "0b306fbf",
   "metadata": {
    "execution": {
     "iopub.execute_input": "2023-04-03T16:58:55.394547Z",
     "iopub.status.busy": "2023-04-03T16:58:55.393879Z",
     "iopub.status.idle": "2023-04-03T16:58:55.444416Z",
     "shell.execute_reply": "2023-04-03T16:58:55.443474Z"
    },
    "papermill": {
     "duration": 0.072201,
     "end_time": "2023-04-03T16:58:55.446915",
     "exception": false,
     "start_time": "2023-04-03T16:58:55.374714",
     "status": "completed"
    },
    "tags": []
   },
   "outputs": [],
   "source": [
    "# get all categorical columns\n",
    "categorical_columns = ['Month_SeasonalPurchase','CustomerType', 'Gender', 'Cookies Setting',\n",
    "       'Education', 'Marital Status']\n",
    "\n",
    "\n",
    "categorical_encode_train = pd.get_dummies(train_data[categorical_columns])\n",
    "categorical_encode_test = pd.get_dummies(test_data[categorical_columns])\n",
    "\n",
    "# adding all the encoded columns to train data and test data\n",
    "train_data = pd.concat([train_data, categorical_encode_train], axis=1)\n",
    "test_data = pd.concat([test_data, categorical_encode_test], axis=1)\n",
    "\n",
    "# dropping original categorical columns\n",
    "train_data.drop(categorical_columns, axis=1, inplace=True)\n",
    "test_data.drop(categorical_columns, axis=1, inplace=True)"
   ]
  },
  {
   "cell_type": "markdown",
   "id": "72f9323f",
   "metadata": {
    "papermill": {
     "duration": 0.018537,
     "end_time": "2023-04-03T16:58:55.483928",
     "exception": false,
     "start_time": "2023-04-03T16:58:55.465391",
     "status": "completed"
    },
    "tags": []
   },
   "source": [
    "**Imputation**"
   ]
  },
  {
   "cell_type": "code",
   "execution_count": 15,
   "id": "779b9ab8",
   "metadata": {
    "execution": {
     "iopub.execute_input": "2023-04-03T16:58:55.521473Z",
     "iopub.status.busy": "2023-04-03T16:58:55.520828Z",
     "iopub.status.idle": "2023-04-03T16:58:55.759224Z",
     "shell.execute_reply": "2023-04-03T16:58:55.758027Z"
    },
    "papermill": {
     "duration": 0.260804,
     "end_time": "2023-04-03T16:58:55.762054",
     "exception": false,
     "start_time": "2023-04-03T16:58:55.501250",
     "status": "completed"
    },
    "tags": []
   },
   "outputs": [],
   "source": [
    "# Create a simple imputer object\n",
    "\n",
    "imputer = SimpleImputer(strategy='median')\n",
    "\n",
    "# imputing missing values of train data and test data using SimpleImputer\n",
    "train_data = pd.DataFrame(imputer.fit_transform(train_data), columns=train_data.columns)\n",
    "\n",
    "test_data = pd.DataFrame(imputer.fit_transform(test_data), columns=test_data.columns)"
   ]
  },
  {
   "cell_type": "markdown",
   "id": "7a1f26a3",
   "metadata": {
    "papermill": {
     "duration": 0.016922,
     "end_time": "2023-04-03T16:58:55.796481",
     "exception": false,
     "start_time": "2023-04-03T16:58:55.779559",
     "status": "completed"
    },
    "tags": []
   },
   "source": [
    "**Type Conversion**"
   ]
  },
  {
   "cell_type": "code",
   "execution_count": 16,
   "id": "d279b8cc",
   "metadata": {
    "execution": {
     "iopub.execute_input": "2023-04-03T16:58:55.833074Z",
     "iopub.status.busy": "2023-04-03T16:58:55.832411Z",
     "iopub.status.idle": "2023-04-03T16:58:55.921066Z",
     "shell.execute_reply": "2023-04-03T16:58:55.919902Z"
    },
    "papermill": {
     "duration": 0.110207,
     "end_time": "2023-04-03T16:58:55.923871",
     "exception": false,
     "start_time": "2023-04-03T16:58:55.813664",
     "status": "completed"
    },
    "tags": []
   },
   "outputs": [],
   "source": [
    "# training data\n",
    "\n",
    "# converting float value into int\n",
    "train_data['HomePage']= train_data['HomePage'].apply(np.int64)\n",
    "train_data['LandingPage']= train_data['LandingPage'].apply(np.int64)\n",
    "train_data['ProductDescriptionPage']= train_data['ProductDescriptionPage'].apply(np.int64)\n",
    "\n",
    "train_data['OS']= train_data['OS'].apply(np.int64)\n",
    "train_data['SearchEngine']= train_data['SearchEngine'].apply(np.int64)\n",
    "train_data['Zone']= train_data['Zone'].apply(np.int64)\n",
    "train_data['Type of Traffic']= train_data['Type of Traffic'].apply(np.int64)\n",
    "train_data['WeekendPurchase']= train_data['WeekendPurchase'].apply(bool)"
   ]
  },
  {
   "cell_type": "code",
   "execution_count": 17,
   "id": "9d7a3f7a",
   "metadata": {
    "execution": {
     "iopub.execute_input": "2023-04-03T16:58:55.960577Z",
     "iopub.status.busy": "2023-04-03T16:58:55.959928Z",
     "iopub.status.idle": "2023-04-03T16:58:56.005516Z",
     "shell.execute_reply": "2023-04-03T16:58:56.004380Z"
    },
    "papermill": {
     "duration": 0.067149,
     "end_time": "2023-04-03T16:58:56.008382",
     "exception": false,
     "start_time": "2023-04-03T16:58:55.941233",
     "status": "completed"
    },
    "tags": []
   },
   "outputs": [],
   "source": [
    "# testing data\n",
    "\n",
    "# converting float value into int\n",
    "test_data['HomePage']= test_data['HomePage'].apply(np.int64)\n",
    "test_data['LandingPage']= test_data['LandingPage'].apply(np.int64)\n",
    "test_data['ProductDescriptionPage']= test_data['ProductDescriptionPage'].apply(np.int64)\n",
    "\n",
    "test_data['OS']= test_data['OS'].apply(np.int64)\n",
    "test_data['SearchEngine']= test_data['SearchEngine'].apply(np.int64)\n",
    "test_data['Zone']= test_data['Zone'].apply(np.int64)\n",
    "test_data['Type of Traffic']= test_data['Type of Traffic'].apply(np.int64)\n",
    "test_data['WeekendPurchase']= test_data['WeekendPurchase'].apply(bool)"
   ]
  },
  {
   "cell_type": "code",
   "execution_count": 18,
   "id": "cd3f5cfe",
   "metadata": {
    "execution": {
     "iopub.execute_input": "2023-04-03T16:58:56.046807Z",
     "iopub.status.busy": "2023-04-03T16:58:56.046061Z",
     "iopub.status.idle": "2023-04-03T16:58:56.065809Z",
     "shell.execute_reply": "2023-04-03T16:58:56.064587Z"
    },
    "papermill": {
     "duration": 0.043021,
     "end_time": "2023-04-03T16:58:56.069430",
     "exception": false,
     "start_time": "2023-04-03T16:58:56.026409",
     "status": "completed"
    },
    "tags": []
   },
   "outputs": [
    {
     "name": "stdout",
     "output_type": "stream",
     "text": [
      "<class 'pandas.core.frame.DataFrame'>\n",
      "RangeIndex: 14731 entries, 0 to 14730\n",
      "Data columns (total 42 columns):\n",
      " #   Column                           Non-Null Count  Dtype  \n",
      "---  ------                           --------------  -----  \n",
      " 0   HomePage                         14731 non-null  int64  \n",
      " 1   HomePage_Duration                14731 non-null  float64\n",
      " 2   LandingPage                      14731 non-null  int64  \n",
      " 3   LandingPage_Duration             14731 non-null  float64\n",
      " 4   ProductDescriptionPage           14731 non-null  int64  \n",
      " 5   ProductDescriptionPage_Duration  14731 non-null  float64\n",
      " 6   GoogleMetric:Bounce Rates        14731 non-null  float64\n",
      " 7   GoogleMetric:Exit Rates          14731 non-null  float64\n",
      " 8   GoogleMetric:Page Values         14731 non-null  float64\n",
      " 9   SeasonalPurchase                 14731 non-null  float64\n",
      " 10  OS                               14731 non-null  int64  \n",
      " 11  SearchEngine                     14731 non-null  int64  \n",
      " 12  Zone                             14731 non-null  int64  \n",
      " 13  Type of Traffic                  14731 non-null  int64  \n",
      " 14  WeekendPurchase                  14731 non-null  bool   \n",
      " 15  Made_Purchase                    14731 non-null  float64\n",
      " 16  Month_SeasonalPurchase_Aug       14731 non-null  float64\n",
      " 17  Month_SeasonalPurchase_Dec       14731 non-null  float64\n",
      " 18  Month_SeasonalPurchase_Feb       14731 non-null  float64\n",
      " 19  Month_SeasonalPurchase_Jul       14731 non-null  float64\n",
      " 20  Month_SeasonalPurchase_June      14731 non-null  float64\n",
      " 21  Month_SeasonalPurchase_Mar       14731 non-null  float64\n",
      " 22  Month_SeasonalPurchase_May       14731 non-null  float64\n",
      " 23  Month_SeasonalPurchase_Nov       14731 non-null  float64\n",
      " 24  Month_SeasonalPurchase_Oct       14731 non-null  float64\n",
      " 25  Month_SeasonalPurchase_Sep       14731 non-null  float64\n",
      " 26  CustomerType_New_Visitor         14731 non-null  float64\n",
      " 27  CustomerType_Other               14731 non-null  float64\n",
      " 28  CustomerType_Returning_Visitor   14731 non-null  float64\n",
      " 29  Gender_Female                    14731 non-null  float64\n",
      " 30  Gender_Male                      14731 non-null  float64\n",
      " 31  Gender_Not Specified             14731 non-null  float64\n",
      " 32  Cookies Setting_ALL              14731 non-null  float64\n",
      " 33  Cookies Setting_Deny             14731 non-null  float64\n",
      " 34  Cookies Setting_Required         14731 non-null  float64\n",
      " 35  Education_Diploma                14731 non-null  float64\n",
      " 36  Education_Graduate               14731 non-null  float64\n",
      " 37  Education_Not Specified          14731 non-null  float64\n",
      " 38  Education_Others                 14731 non-null  float64\n",
      " 39  Marital Status_Married           14731 non-null  float64\n",
      " 40  Marital Status_Other             14731 non-null  float64\n",
      " 41  Marital Status_Single            14731 non-null  float64\n",
      "dtypes: bool(1), float64(34), int64(7)\n",
      "memory usage: 4.6 MB\n"
     ]
    }
   ],
   "source": [
    "# info of train data\n",
    "train_data.info()"
   ]
  },
  {
   "cell_type": "code",
   "execution_count": 19,
   "id": "3fdc56b0",
   "metadata": {
    "execution": {
     "iopub.execute_input": "2023-04-03T16:58:56.107447Z",
     "iopub.status.busy": "2023-04-03T16:58:56.106979Z",
     "iopub.status.idle": "2023-04-03T16:58:56.125261Z",
     "shell.execute_reply": "2023-04-03T16:58:56.124005Z"
    },
    "papermill": {
     "duration": 0.042034,
     "end_time": "2023-04-03T16:58:56.129726",
     "exception": false,
     "start_time": "2023-04-03T16:58:56.087692",
     "status": "completed"
    },
    "tags": []
   },
   "outputs": [
    {
     "name": "stdout",
     "output_type": "stream",
     "text": [
      "<class 'pandas.core.frame.DataFrame'>\n",
      "RangeIndex: 6599 entries, 0 to 6598\n",
      "Data columns (total 41 columns):\n",
      " #   Column                           Non-Null Count  Dtype  \n",
      "---  ------                           --------------  -----  \n",
      " 0   HomePage                         6599 non-null   int64  \n",
      " 1   HomePage_Duration                6599 non-null   float64\n",
      " 2   LandingPage                      6599 non-null   int64  \n",
      " 3   LandingPage_Duration             6599 non-null   float64\n",
      " 4   ProductDescriptionPage           6599 non-null   int64  \n",
      " 5   ProductDescriptionPage_Duration  6599 non-null   float64\n",
      " 6   GoogleMetric:Bounce Rates        6599 non-null   float64\n",
      " 7   GoogleMetric:Exit Rates          6599 non-null   float64\n",
      " 8   GoogleMetric:Page Values         6599 non-null   float64\n",
      " 9   SeasonalPurchase                 6599 non-null   float64\n",
      " 10  OS                               6599 non-null   int64  \n",
      " 11  SearchEngine                     6599 non-null   int64  \n",
      " 12  Zone                             6599 non-null   int64  \n",
      " 13  Type of Traffic                  6599 non-null   int64  \n",
      " 14  WeekendPurchase                  6599 non-null   bool   \n",
      " 15  Month_SeasonalPurchase_Aug       6599 non-null   float64\n",
      " 16  Month_SeasonalPurchase_Dec       6599 non-null   float64\n",
      " 17  Month_SeasonalPurchase_Feb       6599 non-null   float64\n",
      " 18  Month_SeasonalPurchase_Jul       6599 non-null   float64\n",
      " 19  Month_SeasonalPurchase_June      6599 non-null   float64\n",
      " 20  Month_SeasonalPurchase_Mar       6599 non-null   float64\n",
      " 21  Month_SeasonalPurchase_May       6599 non-null   float64\n",
      " 22  Month_SeasonalPurchase_Nov       6599 non-null   float64\n",
      " 23  Month_SeasonalPurchase_Oct       6599 non-null   float64\n",
      " 24  Month_SeasonalPurchase_Sep       6599 non-null   float64\n",
      " 25  CustomerType_New_Visitor         6599 non-null   float64\n",
      " 26  CustomerType_Other               6599 non-null   float64\n",
      " 27  CustomerType_Returning_Visitor   6599 non-null   float64\n",
      " 28  Gender_Female                    6599 non-null   float64\n",
      " 29  Gender_Male                      6599 non-null   float64\n",
      " 30  Gender_Not Specified             6599 non-null   float64\n",
      " 31  Cookies Setting_ALL              6599 non-null   float64\n",
      " 32  Cookies Setting_Deny             6599 non-null   float64\n",
      " 33  Cookies Setting_Required         6599 non-null   float64\n",
      " 34  Education_Diploma                6599 non-null   float64\n",
      " 35  Education_Graduate               6599 non-null   float64\n",
      " 36  Education_Not Specified          6599 non-null   float64\n",
      " 37  Education_Others                 6599 non-null   float64\n",
      " 38  Marital Status_Married           6599 non-null   float64\n",
      " 39  Marital Status_Other             6599 non-null   float64\n",
      " 40  Marital Status_Single            6599 non-null   float64\n",
      "dtypes: bool(1), float64(33), int64(7)\n",
      "memory usage: 2.0 MB\n"
     ]
    }
   ],
   "source": [
    "# info of test data\n",
    "test_data.info()"
   ]
  },
  {
   "cell_type": "code",
   "execution_count": 20,
   "id": "73f49d3e",
   "metadata": {
    "execution": {
     "iopub.execute_input": "2023-04-03T16:58:56.169268Z",
     "iopub.status.busy": "2023-04-03T16:58:56.168588Z",
     "iopub.status.idle": "2023-04-03T16:58:56.174884Z",
     "shell.execute_reply": "2023-04-03T16:58:56.174072Z"
    },
    "papermill": {
     "duration": 0.028206,
     "end_time": "2023-04-03T16:58:56.176905",
     "exception": false,
     "start_time": "2023-04-03T16:58:56.148699",
     "status": "completed"
    },
    "tags": []
   },
   "outputs": [
    {
     "data": {
      "text/plain": [
       "Index(['HomePage', 'HomePage_Duration', 'LandingPage', 'LandingPage_Duration',\n",
       "       'ProductDescriptionPage', 'ProductDescriptionPage_Duration',\n",
       "       'GoogleMetric:Bounce Rates', 'GoogleMetric:Exit Rates',\n",
       "       'GoogleMetric:Page Values', 'SeasonalPurchase', 'OS', 'SearchEngine',\n",
       "       'Zone', 'Type of Traffic', 'WeekendPurchase', 'Made_Purchase',\n",
       "       'Month_SeasonalPurchase_Aug', 'Month_SeasonalPurchase_Dec',\n",
       "       'Month_SeasonalPurchase_Feb', 'Month_SeasonalPurchase_Jul',\n",
       "       'Month_SeasonalPurchase_June', 'Month_SeasonalPurchase_Mar',\n",
       "       'Month_SeasonalPurchase_May', 'Month_SeasonalPurchase_Nov',\n",
       "       'Month_SeasonalPurchase_Oct', 'Month_SeasonalPurchase_Sep',\n",
       "       'CustomerType_New_Visitor', 'CustomerType_Other',\n",
       "       'CustomerType_Returning_Visitor', 'Gender_Female', 'Gender_Male',\n",
       "       'Gender_Not Specified', 'Cookies Setting_ALL', 'Cookies Setting_Deny',\n",
       "       'Cookies Setting_Required', 'Education_Diploma', 'Education_Graduate',\n",
       "       'Education_Not Specified', 'Education_Others', 'Marital Status_Married',\n",
       "       'Marital Status_Other', 'Marital Status_Single'],\n",
       "      dtype='object')"
      ]
     },
     "execution_count": 20,
     "metadata": {},
     "output_type": "execute_result"
    }
   ],
   "source": [
    "# getting all columns in training data\n",
    "train_data.columns"
   ]
  },
  {
   "cell_type": "markdown",
   "id": "e6287d30",
   "metadata": {
    "papermill": {
     "duration": 0.018121,
     "end_time": "2023-04-03T16:58:56.213358",
     "exception": false,
     "start_time": "2023-04-03T16:58:56.195237",
     "status": "completed"
    },
    "tags": []
   },
   "source": [
    "**Outlier Treatment**"
   ]
  },
  {
   "cell_type": "code",
   "execution_count": 21,
   "id": "43c628fc",
   "metadata": {
    "execution": {
     "iopub.execute_input": "2023-04-03T16:58:56.253475Z",
     "iopub.status.busy": "2023-04-03T16:58:56.252720Z",
     "iopub.status.idle": "2023-04-03T16:58:56.359094Z",
     "shell.execute_reply": "2023-04-03T16:58:56.357781Z"
    },
    "papermill": {
     "duration": 0.130264,
     "end_time": "2023-04-03T16:58:56.362330",
     "exception": false,
     "start_time": "2023-04-03T16:58:56.232066",
     "status": "completed"
    },
    "tags": []
   },
   "outputs": [],
   "source": [
    "outlier = ['HomePage_Duration','LandingPage_Duration','ProductDescriptionPage_Duration','GoogleMetric:Bounce Rates','GoogleMetric:Exit Rates','GoogleMetric:Page Values']\n",
    "# train data\n",
    "for i in outlier:\n",
    "    # calculating Inter Quartile Range\n",
    "    q1 = train_data[i].quantile(0.25)\n",
    "    q3 = train_data[i].quantile(0.75)\n",
    "    iqr = q3-q1\n",
    "    # Setting the upper and lower limits\n",
    "    lower_limit = q1-1.5*iqr\n",
    "    upper_limit = q3+1.5*iqr\n",
    "    output_train_1 = train_data[(train_data[i]< lower_limit)].values\n",
    "    output_train_2 = train_data[(train_data[i]> upper_limit)].values\n",
    "    # replacing outlier values with lower and upper limit\n",
    "    train_data[i].replace(output_train_1, lower_limit, inplace=True)\n",
    "    train_data[i].replace(output_train_2, upper_limit, inplace=True)"
   ]
  },
  {
   "cell_type": "code",
   "execution_count": 22,
   "id": "65ec1550",
   "metadata": {
    "execution": {
     "iopub.execute_input": "2023-04-03T16:58:56.402327Z",
     "iopub.status.busy": "2023-04-03T16:58:56.401104Z",
     "iopub.status.idle": "2023-04-03T16:58:56.460226Z",
     "shell.execute_reply": "2023-04-03T16:58:56.458999Z"
    },
    "papermill": {
     "duration": 0.082215,
     "end_time": "2023-04-03T16:58:56.463154",
     "exception": false,
     "start_time": "2023-04-03T16:58:56.380939",
     "status": "completed"
    },
    "tags": []
   },
   "outputs": [],
   "source": [
    "outlier = ['HomePage_Duration','LandingPage_Duration','ProductDescriptionPage_Duration','GoogleMetric:Bounce Rates','GoogleMetric:Exit Rates','GoogleMetric:Page Values']\n",
    "# test data\n",
    "for i in outlier:\n",
    "    # calculating Inter Quartile Range\n",
    "    q1 = test_data[i].quantile(0.25)\n",
    "    q3 = test_data[i].quantile(0.75)\n",
    "    iqr = q3-q1\n",
    "    # Setting the upper and lower limits\n",
    "    lower_limit = q1-1.5*iqr\n",
    "    upper_limit = q3+1.5*iqr\n",
    "    output_train_1 = test_data[(test_data[i]< lower_limit)].values\n",
    "    output_train_2 = test_data[(test_data[i]> upper_limit)].values\n",
    "    # replacing outlier values with lower and upper limit\n",
    "    test_data[i].replace(output_train_1, lower_limit, inplace=True)\n",
    "    test_data[i].replace(output_train_2, upper_limit, inplace=True)"
   ]
  },
  {
   "cell_type": "code",
   "execution_count": 23,
   "id": "5b3b4799",
   "metadata": {
    "execution": {
     "iopub.execute_input": "2023-04-03T16:58:56.503353Z",
     "iopub.status.busy": "2023-04-03T16:58:56.502877Z",
     "iopub.status.idle": "2023-04-03T16:58:56.610173Z",
     "shell.execute_reply": "2023-04-03T16:58:56.609069Z"
    },
    "papermill": {
     "duration": 0.130503,
     "end_time": "2023-04-03T16:58:56.612984",
     "exception": false,
     "start_time": "2023-04-03T16:58:56.482481",
     "status": "completed"
    },
    "tags": []
   },
   "outputs": [],
   "source": [
    "month = ['Month_SeasonalPurchase_Aug','Month_SeasonalPurchase_Dec','Month_SeasonalPurchase_Feb','Month_SeasonalPurchase_Jul','Month_SeasonalPurchase_June',      \n",
    "  'Month_SeasonalPurchase_Mar','Month_SeasonalPurchase_May','Month_SeasonalPurchase_Nov','Month_SeasonalPurchase_Oct','Month_SeasonalPurchase_Sep']\n",
    "\n",
    "for i in month:\n",
    "    # calculating Inter Quartile Range\n",
    "    q1 = train_data[i].quantile(0.25)\n",
    "    q3 = train_data[i].quantile(0.75)\n",
    "    iqr = q3-q1\n",
    "    # Setting the upper and lower limits\n",
    "    lower_limit = q1-1.5*iqr\n",
    "    upper_limit = q3+1.5*iqr\n",
    "    output_train_1 = train_data[(train_data[i]< lower_limit)].values\n",
    "    output_train_2 = train_data[(train_data[i]> upper_limit)].values\n",
    "    # replacing outlier values with lower and upper limit\n",
    "    train_data[i].replace(output_train_1, lower_limit, inplace=True)\n",
    "    train_data[i].replace(output_train_2, upper_limit, inplace=True)"
   ]
  },
  {
   "cell_type": "code",
   "execution_count": 24,
   "id": "d9c5f29f",
   "metadata": {
    "execution": {
     "iopub.execute_input": "2023-04-03T16:58:56.653660Z",
     "iopub.status.busy": "2023-04-03T16:58:56.652834Z",
     "iopub.status.idle": "2023-04-03T16:58:56.724056Z",
     "shell.execute_reply": "2023-04-03T16:58:56.722822Z"
    },
    "papermill": {
     "duration": 0.094736,
     "end_time": "2023-04-03T16:58:56.726961",
     "exception": false,
     "start_time": "2023-04-03T16:58:56.632225",
     "status": "completed"
    },
    "tags": []
   },
   "outputs": [],
   "source": [
    "month = ['Month_SeasonalPurchase_Aug','Month_SeasonalPurchase_Dec','Month_SeasonalPurchase_Feb','Month_SeasonalPurchase_Jul','Month_SeasonalPurchase_June',      \n",
    "  'Month_SeasonalPurchase_Mar','Month_SeasonalPurchase_May','Month_SeasonalPurchase_Nov','Month_SeasonalPurchase_Oct','Month_SeasonalPurchase_Sep']\n",
    "\n",
    "for i in month:\n",
    "    # calculating Inter Quartile Range\n",
    "    q1 = test_data[i].quantile(0.25)\n",
    "    q3 = test_data[i].quantile(0.75)\n",
    "    iqr = q3-q1\n",
    "    # Setting the upper and lower limits\n",
    "    lower_limit = q1-1.5*iqr\n",
    "    upper_limit = q3+1.5*iqr\n",
    "    output_train_1 = test_data[(test_data[i]< lower_limit)].values\n",
    "    output_train_2 = test_data[(test_data[i]> upper_limit)].values\n",
    "    # replacing outlier values with lower and upper limit\n",
    "    test_data[i].replace(output_train_1, lower_limit, inplace=True)\n",
    "    test_data[i].replace(output_train_2, upper_limit, inplace=True)"
   ]
  },
  {
   "cell_type": "markdown",
   "id": "01d1d068",
   "metadata": {
    "papermill": {
     "duration": 0.018679,
     "end_time": "2023-04-03T16:58:56.764649",
     "exception": false,
     "start_time": "2023-04-03T16:58:56.745970",
     "status": "completed"
    },
    "tags": []
   },
   "source": [
    "**Standardization**"
   ]
  },
  {
   "cell_type": "code",
   "execution_count": 25,
   "id": "7658ec49",
   "metadata": {
    "execution": {
     "iopub.execute_input": "2023-04-03T16:58:56.804319Z",
     "iopub.status.busy": "2023-04-03T16:58:56.803803Z",
     "iopub.status.idle": "2023-04-03T16:58:57.061307Z",
     "shell.execute_reply": "2023-04-03T16:58:57.060141Z"
    },
    "papermill": {
     "duration": 0.280867,
     "end_time": "2023-04-03T16:58:57.064342",
     "exception": false,
     "start_time": "2023-04-03T16:58:56.783475",
     "status": "completed"
    },
    "tags": []
   },
   "outputs": [],
   "source": [
    "# Create an instance of MinMaxScaler\n",
    "scaler = MinMaxScaler()\n",
    "\n",
    "# Getting all the columns to scale\n",
    "columns = ['HomePage', 'HomePage_Duration', 'LandingPage', 'LandingPage_Duration',\n",
    "       'ProductDescriptionPage', 'ProductDescriptionPage_Duration',\n",
    "       'GoogleMetric:Bounce Rates', 'GoogleMetric:Exit Rates',\n",
    "       'GoogleMetric:Page Values', 'SeasonalPurchase', 'OS', 'SearchEngine',\n",
    "       'Zone', 'Type of Traffic', 'WeekendPurchase', \n",
    "       'Month_SeasonalPurchase_Aug', 'Month_SeasonalPurchase_Dec',\n",
    "       'Month_SeasonalPurchase_Feb', 'Month_SeasonalPurchase_Jul',\n",
    "       'Month_SeasonalPurchase_June', 'Month_SeasonalPurchase_Mar',\n",
    "       'Month_SeasonalPurchase_May', 'Month_SeasonalPurchase_Nov',\n",
    "       'Month_SeasonalPurchase_Oct', 'Month_SeasonalPurchase_Sep',\n",
    "       'CustomerType_New_Visitor', 'CustomerType_Other',\n",
    "       'CustomerType_Returning_Visitor', 'Gender_Female', 'Gender_Male',\n",
    "       'Gender_Not Specified', 'Cookies Setting_ALL', 'Cookies Setting_Deny',\n",
    "       'Cookies Setting_Required', 'Marital Status_Married',\n",
    "       'Marital Status_Other', 'Marital Status_Single', 'Education_Diploma',\n",
    "       'Education_Graduate', 'Education_Not Specified', 'Education_Others']\n",
    "\n",
    "# fit and transform selected columns of training and test data\n",
    "train_data[columns] = scaler.fit_transform(train_data[columns])\n",
    "test_data[columns] = scaler.fit_transform(test_data[columns])"
   ]
  },
  {
   "cell_type": "markdown",
   "id": "45b1aa76",
   "metadata": {
    "papermill": {
     "duration": 0.01817,
     "end_time": "2023-04-03T16:58:57.101185",
     "exception": false,
     "start_time": "2023-04-03T16:58:57.083015",
     "status": "completed"
    },
    "tags": []
   },
   "source": [
    "**Splitting training data into X_train and y_train**"
   ]
  },
  {
   "cell_type": "code",
   "execution_count": 26,
   "id": "61d48233",
   "metadata": {
    "execution": {
     "iopub.execute_input": "2023-04-03T16:58:57.142411Z",
     "iopub.status.busy": "2023-04-03T16:58:57.141719Z",
     "iopub.status.idle": "2023-04-03T16:58:57.157986Z",
     "shell.execute_reply": "2023-04-03T16:58:57.156447Z"
    },
    "papermill": {
     "duration": 0.041004,
     "end_time": "2023-04-03T16:58:57.161043",
     "exception": false,
     "start_time": "2023-04-03T16:58:57.120039",
     "status": "completed"
    },
    "tags": []
   },
   "outputs": [],
   "source": [
    "X_train = train_data.drop(['Made_Purchase'], axis=1)\n",
    "y_train = train_data['Made_Purchase']"
   ]
  },
  {
   "cell_type": "markdown",
   "id": "0a4ab462",
   "metadata": {
    "papermill": {
     "duration": 0.018106,
     "end_time": "2023-04-03T16:58:57.197986",
     "exception": false,
     "start_time": "2023-04-03T16:58:57.179880",
     "status": "completed"
    },
    "tags": []
   },
   "source": [
    "**Feature Importance**"
   ]
  },
  {
   "cell_type": "code",
   "execution_count": 27,
   "id": "8bd1db24",
   "metadata": {
    "execution": {
     "iopub.execute_input": "2023-04-03T16:58:57.238513Z",
     "iopub.status.busy": "2023-04-03T16:58:57.238011Z",
     "iopub.status.idle": "2023-04-03T16:59:00.817225Z",
     "shell.execute_reply": "2023-04-03T16:59:00.815633Z"
    },
    "papermill": {
     "duration": 3.603513,
     "end_time": "2023-04-03T16:59:00.819960",
     "exception": false,
     "start_time": "2023-04-03T16:58:57.216447",
     "status": "completed"
    },
    "tags": []
   },
   "outputs": [
    {
     "name": "stdout",
     "output_type": "stream",
     "text": [
      "[0.04356219 0.04513013 0.02429791 0.02352795 0.06328813 0.06391386\n",
      " 0.05016992 0.06079263 0.09463451 0.01169246 0.04207275 0.03733218\n",
      " 0.0506211  0.05197787 0.02109009 0.00517869 0.0087987  0.00233432\n",
      " 0.00535528 0.00472122 0.00776281 0.0092593  0.00884592 0.00491977\n",
      " 0.0056025  0.00612892 0.00111479 0.00854621 0.01792314 0.01849695\n",
      " 0.01860186 0.01907941 0.01906378 0.01894198 0.01763609 0.01870065\n",
      " 0.01880729 0.01766102 0.01713142 0.01770373 0.01758058]\n"
     ]
    }
   ],
   "source": [
    "from sklearn.ensemble import ExtraTreesClassifier\n",
    "model = ExtraTreesClassifier()\n",
    "model.fit(X_train, y_train)\n",
    "print(model.feature_importances_)"
   ]
  },
  {
   "cell_type": "code",
   "execution_count": 28,
   "id": "b67a4138",
   "metadata": {
    "execution": {
     "iopub.execute_input": "2023-04-03T16:59:00.860673Z",
     "iopub.status.busy": "2023-04-03T16:59:00.859242Z",
     "iopub.status.idle": "2023-04-03T16:59:01.151413Z",
     "shell.execute_reply": "2023-04-03T16:59:01.150135Z"
    },
    "papermill": {
     "duration": 0.315239,
     "end_time": "2023-04-03T16:59:01.154198",
     "exception": false,
     "start_time": "2023-04-03T16:59:00.838959",
     "status": "completed"
    },
    "tags": []
   },
   "outputs": [
    {
     "data": {
      "image/png": "[encoded data removed]",
      "text/plain": [
       "<Figure size 432x288 with 1 Axes>"
      ]
     },
     "metadata": {
      "needs_background": "light"
     },
     "output_type": "display_data"
    }
   ],
   "source": [
    "feature_importance = pd.Series(model.feature_importances_,index= X_train.columns)\n",
    "feature_importance.nlargest(10).plot(kind='barh')\n",
    "plt.show()"
   ]
  },
  {
   "cell_type": "markdown",
   "id": "5a9e4dfc",
   "metadata": {
    "papermill": {
     "duration": 0.018398,
     "end_time": "2023-04-03T16:59:01.191620",
     "exception": false,
     "start_time": "2023-04-03T16:59:01.173222",
     "status": "completed"
    },
    "tags": []
   },
   "source": [
    "**Applying SMOTE Technique**"
   ]
  },
  {
   "cell_type": "code",
   "execution_count": 29,
   "id": "4ed20694",
   "metadata": {
    "execution": {
     "iopub.execute_input": "2023-04-03T16:59:01.231543Z",
     "iopub.status.busy": "2023-04-03T16:59:01.231066Z",
     "iopub.status.idle": "2023-04-03T16:59:02.361868Z",
     "shell.execute_reply": "2023-04-03T16:59:02.360490Z"
    },
    "papermill": {
     "duration": 1.154648,
     "end_time": "2023-04-03T16:59:02.365074",
     "exception": false,
     "start_time": "2023-04-03T16:59:01.210426",
     "status": "completed"
    },
    "tags": []
   },
   "outputs": [],
   "source": [
    "# importing SMOTE\n",
    "from imblearn.over_sampling import SMOTE\n",
    "# Create smot object\n",
    "smote = SMOTE(sampling_strategy='minority')\n",
    "\n",
    "# oversampling\n",
    "X_smote,y_smote = smote.fit_resample(X_train, y_train)"
   ]
  },
  {
   "cell_type": "markdown",
   "id": "b81fdbef",
   "metadata": {
    "papermill": {
     "duration": 0.018728,
     "end_time": "2023-04-03T16:59:02.402869",
     "exception": false,
     "start_time": "2023-04-03T16:59:02.384141",
     "status": "completed"
    },
    "tags": []
   },
   "source": [
    "# **Model Building**"
   ]
  },
  {
   "cell_type": "markdown",
   "id": "2ad17b6c",
   "metadata": {
    "papermill": {
     "duration": 0.018566,
     "end_time": "2023-04-03T16:59:02.440432",
     "exception": false,
     "start_time": "2023-04-03T16:59:02.421866",
     "status": "completed"
    },
    "tags": []
   },
   "source": [
    "**Adaboost Classifier**"
   ]
  },
  {
   "cell_type": "code",
   "execution_count": 30,
   "id": "55053239",
   "metadata": {
    "execution": {
     "iopub.execute_input": "2023-04-03T16:59:02.481992Z",
     "iopub.status.busy": "2023-04-03T16:59:02.480866Z",
     "iopub.status.idle": "2023-04-03T16:59:02.487794Z",
     "shell.execute_reply": "2023-04-03T16:59:02.486801Z"
    },
    "papermill": {
     "duration": 0.030039,
     "end_time": "2023-04-03T16:59:02.490271",
     "exception": false,
     "start_time": "2023-04-03T16:59:02.460232",
     "status": "completed"
    },
    "tags": []
   },
   "outputs": [],
   "source": [
    "\n",
    "from sklearn.ensemble import AdaBoostClassifier\n",
    "model = AdaBoostClassifier(base_estimator = None,\n",
    "                          n_estimators = 50,\n",
    "                          learning_rate = 1.0,\n",
    "                           algorithm = 'SAMME.R',\n",
    "                           random_state = None\n",
    "                          )"
   ]
  },
  {
   "cell_type": "markdown",
   "id": "c48470fe",
   "metadata": {
    "papermill": {
     "duration": 0.018471,
     "end_time": "2023-04-03T16:59:02.527750",
     "exception": false,
     "start_time": "2023-04-03T16:59:02.509279",
     "status": "completed"
    },
    "tags": []
   },
   "source": [
    "**Cross Validation**"
   ]
  },
  {
   "cell_type": "code",
   "execution_count": 31,
   "id": "35f0c8ac",
   "metadata": {
    "execution": {
     "iopub.execute_input": "2023-04-03T16:59:02.567810Z",
     "iopub.status.busy": "2023-04-03T16:59:02.567321Z",
     "iopub.status.idle": "2023-04-03T16:59:23.478253Z",
     "shell.execute_reply": "2023-04-03T16:59:23.476894Z"
    },
    "papermill": {
     "duration": 20.935443,
     "end_time": "2023-04-03T16:59:23.482116",
     "exception": false,
     "start_time": "2023-04-03T16:59:02.546673",
     "status": "completed"
    },
    "tags": []
   },
   "outputs": [
    {
     "name": "stdout",
     "output_type": "stream",
     "text": [
      "Mean Cross-Validation Score: 0.6499523442569759\n"
     ]
    }
   ],
   "source": [
    "from sklearn.model_selection import cross_val_score\n",
    "cv = cross_val_score(model,X_train,y_train, cv=20)\n",
    "print('Mean Cross-Validation Score:', cv.mean())"
   ]
  },
  {
   "cell_type": "code",
   "execution_count": 32,
   "id": "f6d07c14",
   "metadata": {
    "execution": {
     "iopub.execute_input": "2023-04-03T16:59:23.524666Z",
     "iopub.status.busy": "2023-04-03T16:59:23.523575Z",
     "iopub.status.idle": "2023-04-03T16:59:25.023485Z",
     "shell.execute_reply": "2023-04-03T16:59:25.022572Z"
    },
    "papermill": {
     "duration": 1.523357,
     "end_time": "2023-04-03T16:59:25.025824",
     "exception": false,
     "start_time": "2023-04-03T16:59:23.502467",
     "status": "completed"
    },
    "tags": []
   },
   "outputs": [
    {
     "data": {
      "text/plain": [
       "AdaBoostClassifier()"
      ]
     },
     "execution_count": 32,
     "metadata": {},
     "output_type": "execute_result"
    }
   ],
   "source": [
    "model.fit(X_smote,y_smote)"
   ]
  },
  {
   "cell_type": "markdown",
   "id": "ad3d36cb",
   "metadata": {
    "papermill": {
     "duration": 0.018382,
     "end_time": "2023-04-03T16:59:25.063222",
     "exception": false,
     "start_time": "2023-04-03T16:59:25.044840",
     "status": "completed"
    },
    "tags": []
   },
   "source": [
    "**Hyper Parameter Tuning**"
   ]
  },
  {
   "cell_type": "code",
   "execution_count": 33,
   "id": "75e83608",
   "metadata": {
    "execution": {
     "iopub.execute_input": "2023-04-03T16:59:25.103252Z",
     "iopub.status.busy": "2023-04-03T16:59:25.102358Z",
     "iopub.status.idle": "2023-04-03T16:59:25.107825Z",
     "shell.execute_reply": "2023-04-03T16:59:25.106901Z"
    },
    "papermill": {
     "duration": 0.028288,
     "end_time": "2023-04-03T16:59:25.110274",
     "exception": false,
     "start_time": "2023-04-03T16:59:25.081986",
     "status": "completed"
    },
    "tags": []
   },
   "outputs": [],
   "source": [
    "\n",
    "\n",
    "model_parameter_grid = {'n_estimators': [10,80,200,800,2000,5000],\n",
    "                    'learning_rate': [0.01,0.1,0.5,1]}\n",
    "\n",
    "model_grid = RandomizedSearchCV(AdaBoostClassifier(), model_parameter_grid, n_iter=100, n_jobs=-1)"
   ]
  },
  {
   "cell_type": "code",
   "execution_count": 34,
   "id": "4becb284",
   "metadata": {
    "execution": {
     "iopub.execute_input": "2023-04-03T16:59:25.150543Z",
     "iopub.status.busy": "2023-04-03T16:59:25.150103Z",
     "iopub.status.idle": "2023-04-03T17:22:26.914126Z",
     "shell.execute_reply": "2023-04-03T17:22:26.913091Z"
    },
    "papermill": {
     "duration": 1381.804567,
     "end_time": "2023-04-03T17:22:26.934145",
     "exception": false,
     "start_time": "2023-04-03T16:59:25.129578",
     "status": "completed"
    },
    "tags": []
   },
   "outputs": [
    {
     "name": "stderr",
     "output_type": "stream",
     "text": [
      "/opt/conda/lib/python3.7/site-packages/sklearn/model_selection/_search.py:296: UserWarning: The total space of parameters 24 is smaller than n_iter=100. Running 24 iterations. For exhaustive searches, use GridSearchCV.\n",
      "  UserWarning,\n"
     ]
    },
    {
     "data": {
      "text/plain": [
       "RandomizedSearchCV(estimator=AdaBoostClassifier(), n_iter=100, n_jobs=-1,\n",
       "                   param_distributions={'learning_rate': [0.01, 0.1, 0.5, 1],\n",
       "                                        'n_estimators': [10, 80, 200, 800, 2000,\n",
       "                                                         5000]})"
      ]
     },
     "execution_count": 34,
     "metadata": {},
     "output_type": "execute_result"
    }
   ],
   "source": [
    "model_grid.fit(X_smote,y_smote)"
   ]
  },
  {
   "cell_type": "code",
   "execution_count": 35,
   "id": "da97d855",
   "metadata": {
    "execution": {
     "iopub.execute_input": "2023-04-03T17:22:26.974123Z",
     "iopub.status.busy": "2023-04-03T17:22:26.972980Z",
     "iopub.status.idle": "2023-04-03T17:22:26.980460Z",
     "shell.execute_reply": "2023-04-03T17:22:26.979717Z"
    },
    "papermill": {
     "duration": 0.029393,
     "end_time": "2023-04-03T17:22:26.982427",
     "exception": false,
     "start_time": "2023-04-03T17:22:26.953034",
     "status": "completed"
    },
    "tags": []
   },
   "outputs": [
    {
     "data": {
      "text/plain": [
       "{'n_estimators': 10, 'learning_rate': 0.01}"
      ]
     },
     "execution_count": 35,
     "metadata": {},
     "output_type": "execute_result"
    }
   ],
   "source": [
    "model_grid.best_params_"
   ]
  },
  {
   "cell_type": "code",
   "execution_count": 36,
   "id": "3a253537",
   "metadata": {
    "execution": {
     "iopub.execute_input": "2023-04-03T17:22:27.021938Z",
     "iopub.status.busy": "2023-04-03T17:22:27.021242Z",
     "iopub.status.idle": "2023-04-03T17:22:27.027757Z",
     "shell.execute_reply": "2023-04-03T17:22:27.026862Z"
    },
    "papermill": {
     "duration": 0.028813,
     "end_time": "2023-04-03T17:22:27.030054",
     "exception": false,
     "start_time": "2023-04-03T17:22:27.001241",
     "status": "completed"
    },
    "tags": []
   },
   "outputs": [
    {
     "data": {
      "text/plain": [
       "AdaBoostClassifier(learning_rate=0.01, n_estimators=10)"
      ]
     },
     "execution_count": 36,
     "metadata": {},
     "output_type": "execute_result"
    }
   ],
   "source": [
    "model_grid.best_estimator_"
   ]
  },
  {
   "cell_type": "code",
   "execution_count": 37,
   "id": "939b7d47",
   "metadata": {
    "execution": {
     "iopub.execute_input": "2023-04-03T17:22:27.070682Z",
     "iopub.status.busy": "2023-04-03T17:22:27.069626Z",
     "iopub.status.idle": "2023-04-03T17:22:31.196706Z",
     "shell.execute_reply": "2023-04-03T17:22:31.195555Z"
    },
    "papermill": {
     "duration": 4.14979,
     "end_time": "2023-04-03T17:22:31.199060",
     "exception": false,
     "start_time": "2023-04-03T17:22:27.049270",
     "status": "completed"
    },
    "tags": []
   },
   "outputs": [
    {
     "name": "stdout",
     "output_type": "stream",
     "text": [
      "Mean Cross-Validation Score: 0.6637269740723262\n"
     ]
    }
   ],
   "source": [
    "model = AdaBoostClassifier(\n",
    "                          n_estimators = 10,\n",
    "                          learning_rate = 0.01,\n",
    "                           \n",
    "                          )\n",
    "\n",
    "# cross validation\n",
    "\n",
    "cv = cross_val_score(model,X_train,y_train, cv=20)\n",
    "print('Mean Cross-Validation Score:', cv.mean())"
   ]
  },
  {
   "cell_type": "code",
   "execution_count": 38,
   "id": "fa952ed0",
   "metadata": {
    "execution": {
     "iopub.execute_input": "2023-04-03T17:22:31.239116Z",
     "iopub.status.busy": "2023-04-03T17:22:31.238017Z",
     "iopub.status.idle": "2023-04-03T17:22:31.450750Z",
     "shell.execute_reply": "2023-04-03T17:22:31.449938Z"
    },
    "papermill": {
     "duration": 0.234982,
     "end_time": "2023-04-03T17:22:31.452916",
     "exception": false,
     "start_time": "2023-04-03T17:22:31.217934",
     "status": "completed"
    },
    "tags": []
   },
   "outputs": [
    {
     "data": {
      "text/plain": [
       "AdaBoostClassifier(learning_rate=0.01, n_estimators=10)"
      ]
     },
     "execution_count": 38,
     "metadata": {},
     "output_type": "execute_result"
    }
   ],
   "source": [
    "model.fit(X_train,y_train)  # fitting X_train and y_train into the model"
   ]
  },
  {
   "cell_type": "markdown",
   "id": "6d1059c1",
   "metadata": {
    "papermill": {
     "duration": 0.018467,
     "end_time": "2023-04-03T17:22:31.490272",
     "exception": false,
     "start_time": "2023-04-03T17:22:31.471805",
     "status": "completed"
    },
    "tags": []
   },
   "source": [
    "**Prediction**"
   ]
  },
  {
   "cell_type": "code",
   "execution_count": 39,
   "id": "be88269d",
   "metadata": {
    "execution": {
     "iopub.execute_input": "2023-04-03T17:22:31.529930Z",
     "iopub.status.busy": "2023-04-03T17:22:31.529538Z",
     "iopub.status.idle": "2023-04-03T17:22:31.555523Z",
     "shell.execute_reply": "2023-04-03T17:22:31.554350Z"
    },
    "papermill": {
     "duration": 0.048878,
     "end_time": "2023-04-03T17:22:31.557983",
     "exception": false,
     "start_time": "2023-04-03T17:22:31.509105",
     "status": "completed"
    },
    "tags": []
   },
   "outputs": [
    {
     "data": {
      "text/plain": [
       "array([False, False, False, ..., False, False, False])"
      ]
     },
     "execution_count": 39,
     "metadata": {},
     "output_type": "execute_result"
    }
   ],
   "source": [
    "model_pred = model.predict(test_data)\n",
    "model_pred = model_pred.astype(bool)\n",
    "model_pred"
   ]
  },
  {
   "cell_type": "markdown",
   "id": "e0d441bc",
   "metadata": {
    "papermill": {
     "duration": 0.018704,
     "end_time": "2023-04-03T17:22:31.595737",
     "exception": false,
     "start_time": "2023-04-03T17:22:31.577033",
     "status": "completed"
    },
    "tags": []
   },
   "source": [
    "**Submission**"
   ]
  },
  {
   "cell_type": "code",
   "execution_count": 40,
   "id": "f106ec2d",
   "metadata": {
    "execution": {
     "iopub.execute_input": "2023-04-03T17:22:31.635546Z",
     "iopub.status.busy": "2023-04-03T17:22:31.634886Z",
     "iopub.status.idle": "2023-04-03T17:22:31.661377Z",
     "shell.execute_reply": "2023-04-03T17:22:31.660238Z"
    },
    "papermill": {
     "duration": 0.049668,
     "end_time": "2023-04-03T17:22:31.664056",
     "exception": false,
     "start_time": "2023-04-03T17:22:31.614388",
     "status": "completed"
    },
    "tags": []
   },
   "outputs": [],
   "source": [
    "submission=pd.DataFrame(columns=['id', 'Made_Purchase'])\n",
    "submission['id']=[i for i in range(len(model_pred))]\n",
    "submission[\"Made_Purchase\"]=[i for i in model_pred]\n",
    "submission.to_csv('submission.csv',index=False)"
   ]
  }
 ],
 "metadata": {
  "kernelspec": {
   "display_name": "Python 3 (ipykernel)",
   "language": "python",
   "name": "python3"
  },
  "language_info": {
   "codemirror_mode": {
    "name": "ipython",
    "version": 3
   },
   "file_extension": ".py",
   "mimetype": "text/x-python",
   "name": "python",
   "nbconvert_exporter": "python",
   "pygments_lexer": "ipython3",
   "version": "3.9.13"
  },
  "papermill": {
   "default_parameters": {},
   "duration": 1433.888487,
   "end_time": "2023-04-03T17:22:34.307623",
   "environment_variables": {},
   "exception": null,
   "input_path": "__notebook__.ipynb",
   "output_path": "__notebook__.ipynb",
   "parameters": {},
   "start_time": "2023-04-03T16:58:40.419136",
   "version": "2.3.4"
  }
 },
 "nbformat": 4,
 "nbformat_minor": 5
}
